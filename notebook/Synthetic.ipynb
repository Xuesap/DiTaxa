{
 "cells": [
  {
   "cell_type": "code",
   "execution_count": 1,
   "metadata": {
    "collapsed": true,
    "deletable": true,
    "editable": true
   },
   "outputs": [],
   "source": [
    "import sys\n",
    "sys.path.append('../')\n",
    "from utility.file_utility import FileUtility\n",
    "from scipy.sparse import csr_matrix"
   ]
  },
  {
   "cell_type": "code",
   "execution_count": 2,
   "metadata": {
    "collapsed": true,
    "deletable": true,
    "editable": true
   },
   "outputs": [],
   "source": [
    "mat=FileUtility.load_sparse_csr('../../16S_datasets/synthetic/rep/syn_selfposcpe_50000_cpe_-1.npz')\n",
    "features=FileUtility.load_list('../../16S_datasets/synthetic/rep/syn_selfposcpe_50000_cpe_-1_features')\n",
    "labels=[0 if 'control' in x.split('/')[-1] else 1 for x in FileUtility.load_list('../../16S_datasets/synthetic/rep/syn_selfposcpe_50000_cpe_-1_meta')]"
   ]
  },
  {
   "cell_type": "code",
   "execution_count": 3,
   "metadata": {
    "collapsed": false,
    "deletable": true,
    "editable": true
   },
   "outputs": [
    {
     "name": "stderr",
     "output_type": "stream",
     "text": [
      "/mounts/Users/student/asgari/.local/lib/python3.4/site-packages/sklearn/feature_selection/univariate_selection.py:619: RuntimeWarning: invalid value encountered in less_equal\n",
      "  np.arange(1, n_features + 1)]\n",
      "/mounts/Users/student/asgari/.local/lib/python3.4/site-packages/sklearn/feature_selection/univariate_selection.py:622: RuntimeWarning: invalid value encountered in less_equal\n",
      "  return self.pvalues_ <= selected.max()\n"
     ]
    }
   ],
   "source": [
    "from taxonomic_assignment.Seq2Tax import Seq2Tax\n",
    "\n",
    "SeqTaxa=Seq2Tax()\n",
    "SeqTaxa.extract_markers('/mounts/data/proj/asgari/dissertation/git_repos/16S_datasets/synthetic/markers/self_cpe_a_vs_control_50K,-1_',mat,labels,features)"
   ]
  },
  {
   "cell_type": "markdown",
   "metadata": {
    "deletable": true,
    "editable": true
   },
   "source": [
    "# Bootstrapping"
   ]
  },
  {
   "cell_type": "code",
   "execution_count": 2,
   "metadata": {
    "collapsed": false,
    "deletable": true,
    "editable": true
   },
   "outputs": [],
   "source": [
    "from bootstrapping.bootstrapping import BootStrapping\n",
    "BT=BootStrapping('a','b','c')\n",
    "BT.load('../../16S_datasets/synthetic/boot/results_bootstrapping_synthetic.pickle')\n",
    "BT.plotting_cpe('synthetic','synthetic',ylimv=200,ratio=50)"
   ]
  },
  {
   "cell_type": "code",
   "execution_count": 10,
   "metadata": {
    "collapsed": false,
    "deletable": true,
    "editable": true
   },
   "outputs": [],
   "source": [
    "BT=BootStrapping('a','b','c')\n",
    "BT.load('../../16S_datasets/synthetic/boot/results_bootstrapping_synthetic.pickle')"
   ]
  },
  {
   "cell_type": "code",
   "execution_count": 12,
   "metadata": {
    "collapsed": false,
    "deletable": true,
    "editable": true
   },
   "outputs": [],
   "source": [
    "BT.plotting_cpe('synthetic','synthetic',ylimv=200,ratio=50)"
   ]
  },
  {
   "cell_type": "code",
   "execution_count": 5,
   "metadata": {
    "collapsed": true,
    "deletable": true,
    "editable": true
   },
   "outputs": [],
   "source": [
    "a=\"gtgccagccgccgcggtaataccggcagcacgagtgatgaccgctattattgggcctaaagcgtccgtagctggccacgcaagtccatcgggaaatctctccgctcaacggagaggcgtccggtggaaactgtgtggcttgggaccggaagatccagagggtacgtctggggtaggagtgaaatcccgtaatccgagacggaccaccggtggcgaaagcgctctggaaagacggatccgacggtgagggacgaaagctcgggtcacgaaccggattagatacccgggtagtcc\""
   ]
  },
  {
   "cell_type": "code",
   "execution_count": 7,
   "metadata": {
    "collapsed": false,
    "deletable": true,
    "editable": true
   },
   "outputs": [],
   "source": [
    "b='gtgccagcagccgcggtaatacggagggtgcaagcgttaatcggaattactgggcgtaaagcgcacgcaggcggtttgttaagtcagatgtgaaatccccgcgcttaacgtgggaactgcatttgaaactggcaagctagagtcttgtagaggggggtagaattccaggtgtagcggtgaaatgcgtagagatctggaggaataccggtggcgaaggcggccccctggacaaagactgacgctcaggtgcgaaagcgtggggagcaaacaggattagataccctggtagtcc'"
   ]
  },
  {
   "cell_type": "markdown",
   "metadata": {
    "collapsed": false,
    "deletable": true,
    "editable": true
   },
   "source": [
    "## OTU Features"
   ]
  },
  {
   "cell_type": "code",
   "execution_count": 23,
   "metadata": {
    "collapsed": false,
    "deletable": true,
    "editable": true
   },
   "outputs": [
    {
     "name": "stdout",
     "output_type": "stream",
     "text": [
      "(200, 1041)\n",
      "200\n"
     ]
    }
   ],
   "source": [
    "import numpy as np\n",
    "import scipy\n",
    "\n",
    "rep=np.array([x.split()[1::] for x in FileUtility.load_list('../../16S_datasets/synthetic/repkmer/otutab.txt')[1::]], dtype=np.float32).T\n",
    "label=['0']*100+['1']*100\n",
    "\n",
    "print(rep.shape)\n",
    "print(len(label))"
   ]
  },
  {
   "cell_type": "code",
   "execution_count": 24,
   "metadata": {
    "collapsed": false,
    "deletable": true,
    "editable": true
   },
   "outputs": [],
   "source": [
    "\n",
    "np.savetxt('../../16S_datasets/synthetic/repkmer/syn_otu',rep)\n",
    "FileUtility.save_list('../../16S_datasets/synthetic/repkmer/label_otu',label)"
   ]
  },
  {
   "cell_type": "code",
   "execution_count": null,
   "metadata": {
    "collapsed": true,
    "deletable": true,
    "editable": true
   },
   "outputs": [],
   "source": []
  }
 ],
 "metadata": {
  "kernelspec": {
   "display_name": "Python 3",
   "language": "python",
   "name": "python3"
  },
  "language_info": {
   "codemirror_mode": {
    "name": "ipython",
    "version": 3
   },
   "file_extension": ".py",
   "mimetype": "text/x-python",
   "name": "python",
   "nbconvert_exporter": "python",
   "pygments_lexer": "ipython3",
   "version": "3.4.6"
  }
 },
 "nbformat": 4,
 "nbformat_minor": 2
}
