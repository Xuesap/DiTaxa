{
 "cells": [
  {
   "cell_type": "code",
   "execution_count": 97,
   "metadata": {
    "collapsed": true,
    "deletable": true,
    "editable": true
   },
   "outputs": [],
   "source": [
    "import sys\n",
    "sys.path.append('../')\n",
    "from utility.file_utility import FileUtility\n",
    "import pandas as pd\n",
    "import numpy as np"
   ]
  },
  {
   "cell_type": "code",
   "execution_count": 98,
   "metadata": {
    "collapsed": true,
    "deletable": true,
    "editable": true
   },
   "outputs": [],
   "source": [
    "def get_cv_res(filename):\n",
    "    [label_set, conf, best_score_, best_estimator_,cv_results_, best_params_, pred]=FileUtility.load_obj(filename)\n",
    "    res=dict()\n",
    "    idx=np.argmax(cv_results_['mean_test_f1_macro'])\n",
    "    res['f1_macro*']=np.round(cv_results_['mean_test_f1_macro'][idx],2)\n",
    "    res['f1_macro']=str(np.round(cv_results_['mean_test_f1_macro'][idx],2))+ ' $\\pm$ ' + str(np.round(cv_results_['std_test_f1_macro'][idx],2))\n",
    "    res['f1_micro']=str(np.round(cv_results_['mean_test_f1_micro'][idx],2))+ ' $\\pm$ ' + str(np.round(cv_results_['std_test_f1_micro'][idx],2))\n",
    "    res['precision_micro']=str(np.round(cv_results_['mean_test_precision_micro'][idx],2))+ ' $\\pm$ ' + str(np.round(cv_results_['std_test_precision_micro'][idx],2))\n",
    "    res['precision_macro']=str(np.round(cv_results_['mean_test_precision_macro'][idx],2))+ ' $\\pm$ ' + str(np.round(cv_results_['std_test_precision_macro'][idx],2))\n",
    "    res['recall_micro']=str(np.round(cv_results_['mean_test_recall_micro'][idx],2))+ ' $\\pm$ ' + str(np.round(cv_results_['std_test_recall_micro'][idx],2))\n",
    "    res['recall_macro']=str(np.round(cv_results_['mean_test_recall_macro'][idx],2))+ ' $\\pm$ ' + str(np.round(cv_results_['std_test_recall_macro'][idx],2))\n",
    "    res['accuracy']=str(np.round(cv_results_['mean_test_accuracy'][idx],2))+ ' $\\pm$ ' + str(np.round(cv_results_['std_test_accuracy'][idx],2))\n",
    "    res['tnr']=str(np.round(cv_results_['mean_test_tnr'][idx],2))+ ' $\\pm$ ' + str(np.round(cv_results_['std_test_tnr'][idx],2))\n",
    "    res['scores_p_0']=str(np.round(cv_results_['mean_test_scores_p_0'][idx],2))+ ' $\\pm$ ' + str(np.round(cv_results_['std_test_scores_p_0'][idx],2))\n",
    "    res['scores_r_0']=str(np.round(cv_results_['mean_test_scores_r_0'][idx],2))+ ' $\\pm$ ' + str(np.round(cv_results_['std_test_scores_r_0'][idx],2))\n",
    "    res['scores_f_1_0']=str(np.round(cv_results_['mean_test_scores_f_1_0'][idx],2))+ ' $\\pm$ ' + str(np.round(cv_results_['std_test_scores_f_1_0'][idx],2))\n",
    "    res['scores_f_1_1']=str(np.round(cv_results_['mean_test_scores_f_1_1'][idx],2))+ ' $\\pm$ ' + str(np.round(cv_results_['std_test_scores_f_1_1'][idx],2))\n",
    "    res['scores_p_1']=str(np.round(cv_results_['mean_test_scores_p_1'][idx],2))+ ' $\\pm$ ' + str(np.round(cv_results_['std_test_scores_p_1'][idx],2))\n",
    "    res['scores_r_1']=str(np.round(cv_results_['mean_test_scores_r_1'][idx],2))+ ' $\\pm$ ' + str(np.round(cv_results_['std_test_scores_r_1'][idx],2)) \n",
    "    res['file']=filename\n",
    "    return res"
   ]
  },
  {
   "cell_type": "code",
   "execution_count": 108,
   "metadata": {
    "collapsed": false,
    "deletable": true,
    "editable": true
   },
   "outputs": [
    {
     "data": {
      "text/plain": [
       "{'accuracy': '0.69 $\\\\pm$ 0.12',\n",
       " 'f1_macro': '0.65 $\\\\pm$ 0.11',\n",
       " 'f1_macro*': 0.65000000000000002,\n",
       " 'f1_micro': '0.69 $\\\\pm$ 0.12',\n",
       " 'file': '/mounts/data/proj/asgari/dissertation/git_repos/16S_datasets/ra/res/otu_RF.pickle',\n",
       " 'precision_macro': '0.73 $\\\\pm$ 0.16',\n",
       " 'precision_micro': '0.69 $\\\\pm$ 0.12',\n",
       " 'recall_macro': '0.65 $\\\\pm$ 0.11',\n",
       " 'recall_micro': '0.69 $\\\\pm$ 0.12',\n",
       " 'scores_f_1_0': '0.76 $\\\\pm$ 0.11',\n",
       " 'scores_f_1_1': '0.54 $\\\\pm$ 0.14',\n",
       " 'scores_p_0': '0.72 $\\\\pm$ 0.08',\n",
       " 'scores_p_1': '0.75 $\\\\pm$ 0.26',\n",
       " 'scores_r_0': '0.82 $\\\\pm$ 0.19',\n",
       " 'scores_r_1': '0.48 $\\\\pm$ 0.17',\n",
       " 'tnr': '0.82 $\\\\pm$ 0.19'}"
      ]
     },
     "execution_count": 108,
     "metadata": {},
     "output_type": "execute_result"
    }
   ],
   "source": [
    "get_cv_res('/mounts/data/proj/asgari/dissertation/git_repos/16S_datasets/ra/res/otu_RF.pickle')"
   ]
  },
  {
   "cell_type": "code",
   "execution_count": 100,
   "metadata": {
    "collapsed": true,
    "deletable": true,
    "editable": true
   },
   "outputs": [],
   "source": [
    "def get_table_from_files(files):\n",
    "    table = {'dataset': [], 'vocab': [], 'sample_size':[],'f1_macro':[],'f1_micro':[],'precision_micro':[],'precision_macro':[],'recall_micro':[],'recall_macro':[],'accuracy':[],'tnr':[],'scores_p_0':[],'scores_r_0':[],'scores_f_1_0':[],'scores_p_1':[],'scores_r_1':[],'scores_f_1_1':[]}\n",
    "    for file in files:        \n",
    "        ds__vocab__sample=file.split('/')[-1].replace('.pickle','').split('_')\n",
    "        res=get_cv_res(file)\n",
    "        for key in table:\n",
    "            if key=='dataset':\n",
    "                table['dataset'].append(ds__vocab__sample[0])\n",
    "            elif key=='vocab':\n",
    "                table['vocab'].append(int(ds__vocab__sample[2]))\n",
    "            elif key=='sample_size':\n",
    "                table['sample_size'].append(ds__vocab__sample[4])\n",
    "            else:\n",
    "                table[key].append(res[key])\n",
    "    df=pd.DataFrame(data=table,columns=['dataset', 'vocab','sample_size','precision_micro','recall_micro','f1_micro','precision_macro','recall_macro','f1_macro'])\n",
    "    df = df.set_index('dataset', append=True).swaplevel(0,1)\n",
    "    df.sort_values(by=['vocab'])\n",
    "    return df\n",
    "\n",
    "    "
   ]
  },
  {
   "cell_type": "code",
   "execution_count": 107,
   "metadata": {
    "collapsed": false,
    "deletable": true,
    "editable": true
   },
   "outputs": [
    {
     "ename": "IndexError",
     "evalue": "list index out of range",
     "output_type": "error",
     "traceback": [
      "\u001b[0;31m---------------------------------------------------------------------------\u001b[0m",
      "\u001b[0;31mIndexError\u001b[0m                                Traceback (most recent call last)",
      "\u001b[0;32m<ipython-input-107-c6917ef22b8a>\u001b[0m in \u001b[0;36m<module>\u001b[0;34m()\u001b[0m\n\u001b[1;32m      1\u001b[0m \u001b[0mpath2res\u001b[0m\u001b[0;34m=\u001b[0m\u001b[0;34m'/mounts/data/proj/asgari/dissertation/git_repos/16S_datasets/ra/res/otu_RF'\u001b[0m\u001b[0;34m\u001b[0m\u001b[0m\n\u001b[1;32m      2\u001b[0m \u001b[0mfiles\u001b[0m\u001b[0;34m=\u001b[0m\u001b[0mFileUtility\u001b[0m\u001b[0;34m.\u001b[0m\u001b[0mrecursive_glob\u001b[0m\u001b[0;34m(\u001b[0m\u001b[0mpath2res\u001b[0m\u001b[0;34m,\u001b[0m\u001b[0;34m'*.pickle'\u001b[0m\u001b[0;34m)\u001b[0m\u001b[0;34m\u001b[0m\u001b[0m\n\u001b[0;32m----> 3\u001b[0;31m \u001b[0mprint\u001b[0m \u001b[0;34m(\u001b[0m\u001b[0mget_table_from_files\u001b[0m\u001b[0;34m(\u001b[0m\u001b[0mfiles\u001b[0m\u001b[0;34m)\u001b[0m\u001b[0;34m.\u001b[0m\u001b[0mto_latex\u001b[0m\u001b[0;34m(\u001b[0m\u001b[0;34m)\u001b[0m\u001b[0;34m.\u001b[0m\u001b[0mreplace\u001b[0m\u001b[0;34m(\u001b[0m\u001b[0;34m'\\\\$\\\\textbackslashpm\\\\$'\u001b[0m\u001b[0;34m,\u001b[0m\u001b[0;34m'$\\pm$'\u001b[0m\u001b[0;34m)\u001b[0m\u001b[0;34m)\u001b[0m\u001b[0;34m\u001b[0m\u001b[0m\n\u001b[0m",
      "\u001b[0;32m/mounts/Users/student/asgari/.local/lib/python3.4/site-packages/pandas/core/frame.py\u001b[0m in \u001b[0;36mto_latex\u001b[0;34m(self, buf, columns, col_space, header, index, na_rep, formatters, float_format, sparsify, index_names, bold_rows, column_format, longtable, escape, encoding, decimal)\u001b[0m\n\u001b[1;32m   1662\u001b[0m                                            escape=escape, decimal=decimal)\n\u001b[1;32m   1663\u001b[0m         formatter.to_latex(column_format=column_format, longtable=longtable,\n\u001b[0;32m-> 1664\u001b[0;31m                            encoding=encoding)\n\u001b[0m\u001b[1;32m   1665\u001b[0m \u001b[0;34m\u001b[0m\u001b[0m\n\u001b[1;32m   1666\u001b[0m         \u001b[0;32mif\u001b[0m \u001b[0mbuf\u001b[0m \u001b[0;32mis\u001b[0m \u001b[0;32mNone\u001b[0m\u001b[0;34m:\u001b[0m\u001b[0;34m\u001b[0m\u001b[0m\n",
      "\u001b[0;32m/mounts/Users/student/asgari/.local/lib/python3.4/site-packages/pandas/formats/format.py\u001b[0m in \u001b[0;36mto_latex\u001b[0;34m(self, column_format, longtable, encoding)\u001b[0m\n\u001b[1;32m    659\u001b[0m \u001b[0;34m\u001b[0m\u001b[0m\n\u001b[1;32m    660\u001b[0m         \u001b[0;32mif\u001b[0m \u001b[0mhasattr\u001b[0m\u001b[0;34m(\u001b[0m\u001b[0mself\u001b[0m\u001b[0;34m.\u001b[0m\u001b[0mbuf\u001b[0m\u001b[0;34m,\u001b[0m \u001b[0;34m'write'\u001b[0m\u001b[0;34m)\u001b[0m\u001b[0;34m:\u001b[0m\u001b[0;34m\u001b[0m\u001b[0m\n\u001b[0;32m--> 661\u001b[0;31m             \u001b[0mlatex_renderer\u001b[0m\u001b[0;34m.\u001b[0m\u001b[0mwrite_result\u001b[0m\u001b[0;34m(\u001b[0m\u001b[0mself\u001b[0m\u001b[0;34m.\u001b[0m\u001b[0mbuf\u001b[0m\u001b[0;34m)\u001b[0m\u001b[0;34m\u001b[0m\u001b[0m\n\u001b[0m\u001b[1;32m    662\u001b[0m         \u001b[0;32melif\u001b[0m \u001b[0misinstance\u001b[0m\u001b[0;34m(\u001b[0m\u001b[0mself\u001b[0m\u001b[0;34m.\u001b[0m\u001b[0mbuf\u001b[0m\u001b[0;34m,\u001b[0m \u001b[0mcompat\u001b[0m\u001b[0;34m.\u001b[0m\u001b[0mstring_types\u001b[0m\u001b[0;34m)\u001b[0m\u001b[0;34m:\u001b[0m\u001b[0;34m\u001b[0m\u001b[0m\n\u001b[1;32m    663\u001b[0m             \u001b[0;32mimport\u001b[0m \u001b[0mcodecs\u001b[0m\u001b[0;34m\u001b[0m\u001b[0m\n",
      "\u001b[0;32m/mounts/Users/student/asgari/.local/lib/python3.4/site-packages/pandas/formats/format.py\u001b[0m in \u001b[0;36mwrite_result\u001b[0;34m(self, buf)\u001b[0m\n\u001b[1;32m    853\u001b[0m             \u001b[0;32mfor\u001b[0m \u001b[0mi\u001b[0m\u001b[0;34m,\u001b[0m \u001b[0mlev\u001b[0m \u001b[0;32min\u001b[0m \u001b[0menumerate\u001b[0m\u001b[0;34m(\u001b[0m\u001b[0mself\u001b[0m\u001b[0;34m.\u001b[0m\u001b[0mframe\u001b[0m\u001b[0;34m.\u001b[0m\u001b[0mindex\u001b[0m\u001b[0;34m.\u001b[0m\u001b[0mlevels\u001b[0m\u001b[0;34m)\u001b[0m\u001b[0;34m:\u001b[0m\u001b[0;34m\u001b[0m\u001b[0m\n\u001b[1;32m    854\u001b[0m                 \u001b[0mlev2\u001b[0m \u001b[0;34m=\u001b[0m \u001b[0mlev\u001b[0m\u001b[0;34m.\u001b[0m\u001b[0mformat\u001b[0m\u001b[0;34m(\u001b[0m\u001b[0;34m)\u001b[0m\u001b[0;34m\u001b[0m\u001b[0m\n\u001b[0;32m--> 855\u001b[0;31m                 \u001b[0mblank\u001b[0m \u001b[0;34m=\u001b[0m \u001b[0;34m' '\u001b[0m \u001b[0;34m*\u001b[0m \u001b[0mlen\u001b[0m\u001b[0;34m(\u001b[0m\u001b[0mlev2\u001b[0m\u001b[0;34m[\u001b[0m\u001b[0;36m0\u001b[0m\u001b[0;34m]\u001b[0m\u001b[0;34m)\u001b[0m\u001b[0;34m\u001b[0m\u001b[0m\n\u001b[0m\u001b[1;32m    856\u001b[0m                 \u001b[0mlev3\u001b[0m \u001b[0;34m=\u001b[0m \u001b[0;34m[\u001b[0m\u001b[0mblank\u001b[0m\u001b[0;34m]\u001b[0m \u001b[0;34m*\u001b[0m \u001b[0mclevels\u001b[0m\u001b[0;34m\u001b[0m\u001b[0m\n\u001b[1;32m    857\u001b[0m                 \u001b[0;32mif\u001b[0m \u001b[0mname\u001b[0m\u001b[0;34m:\u001b[0m\u001b[0;34m\u001b[0m\u001b[0m\n",
      "\u001b[0;31mIndexError\u001b[0m: list index out of range"
     ]
    }
   ],
   "source": [
    "path2res='/mounts/data/proj/asgari/dissertation/git_repos/16S_datasets/ra/reskmer/'\n",
    "files=FileUtility.recursive_glob(path2res,'*.pickle')\n",
    "print (get_table_from_files(files).to_latex().replace('\\\\$\\\\textbackslashpm\\\\$','$\\pm$'))"
   ]
  },
  {
   "cell_type": "code",
   "execution_count": 104,
   "metadata": {
    "collapsed": false,
    "deletable": true,
    "editable": true
   },
   "outputs": [
    {
     "name": "stdout",
     "output_type": "stream",
     "text": [
      "\\begin{tabular}{llrlllllll}\n",
      "\\toprule\n",
      "    &   &  vocab & sample\\_size & precision\\_micro &   recall\\_micro &       f1\\_micro & precision\\_macro &   recall\\_macro &       f1\\_macro \\\\\n",
      "dataset & {} &        &             &                 &                &                &                 &                &                \\\\\n",
      "\\midrule\n",
      "syn & 0 &   1041 &          RF &   1.0 $\\pm$ 0.0 &  1.0 $\\pm$ 0.0 &  1.0 $\\pm$ 0.0 &   1.0 $\\pm$ 0.0 &  1.0 $\\pm$ 0.0 &  1.0 $\\pm$ 0.0 \\\\\n",
      "    & 1 &   5000 &          RF &   1.0 $\\pm$ 0.0 &  1.0 $\\pm$ 0.0 &  1.0 $\\pm$ 0.0 &   1.0 $\\pm$ 0.0 &  1.0 $\\pm$ 0.0 &  1.0 $\\pm$ 0.0 \\\\\n",
      "\\bottomrule\n",
      "\\end{tabular}\n",
      "\n"
     ]
    }
   ],
   "source": [
    "path2res='/mounts/data/proj/asgari/dissertation/git_repos/16S_datasets/synthetic/res_other/'\n",
    "files=FileUtility.recursive_glob(path2res,'*.pickle')\n",
    "get_table_from_files(files)\n",
    "print (get_table_from_files(files).to_latex().replace('\\\\$\\\\textbackslashpm\\\\$','$\\pm$'))"
   ]
  },
  {
   "cell_type": "code",
   "execution_count": 93,
   "metadata": {
    "collapsed": false,
    "deletable": true,
    "editable": true
   },
   "outputs": [
    {
     "name": "stdout",
     "output_type": "stream",
     "text": [
      "\\begin{tabular}{llrlllllll}\n",
      "\\toprule\n",
      "       &   &  vocab & sample\\_size &  precision\\_micro &     recall\\_micro &         f1\\_micro &  precision\\_macro &     recall\\_macro &         f1\\_macro \\\\\n",
      "dataset & {} &        &             &                  &                  &                  &                  &                  &                  \\\\\n",
      "\\midrule\n",
      "crohns & 0 &  20000 &       10000 &  0.75 $\\pm$ 0.04 &  0.75 $\\pm$ 0.04 &  0.75 $\\pm$ 0.04 &  0.75 $\\pm$ 0.04 &  0.74 $\\pm$ 0.04 &  0.74 $\\pm$ 0.04 \\\\\n",
      "       & 1 &  50000 &          -1 &  0.74 $\\pm$ 0.04 &  0.74 $\\pm$ 0.04 &  0.74 $\\pm$ 0.04 &  0.74 $\\pm$ 0.04 &  0.74 $\\pm$ 0.04 &  0.74 $\\pm$ 0.04 \\\\\n",
      "       & 2 &  10000 &        5000 &  0.74 $\\pm$ 0.04 &  0.74 $\\pm$ 0.04 &  0.74 $\\pm$ 0.04 &  0.74 $\\pm$ 0.04 &  0.73 $\\pm$ 0.04 &  0.73 $\\pm$ 0.04 \\\\\n",
      "\\bottomrule\n",
      "\\end{tabular}\n",
      "\n"
     ]
    }
   ],
   "source": [
    "path2res='/mounts/data/proj/asgari/dissertation/git_repos/16S_datasets/crohns/res/'\n",
    "files=FileUtility.recursive_glob(path2res,'*.pickle')\n",
    "get_table_from_files(files)\n",
    "print (get_table_from_files(files).to_latex().replace('\\\\$\\\\textbackslashpm\\\\$','$\\pm$'))"
   ]
  },
  {
   "cell_type": "code",
   "execution_count": null,
   "metadata": {
    "collapsed": true,
    "deletable": true,
    "editable": true
   },
   "outputs": [],
   "source": []
  }
 ],
 "metadata": {
  "kernelspec": {
   "display_name": "Python 3",
   "language": "python",
   "name": "python3"
  },
  "language_info": {
   "codemirror_mode": {
    "name": "ipython",
    "version": 3
   },
   "file_extension": ".py",
   "mimetype": "text/x-python",
   "name": "python",
   "nbconvert_exporter": "python",
   "pygments_lexer": "ipython3",
   "version": "3.4.6"
  }
 },
 "nbformat": 4,
 "nbformat_minor": 2
}
