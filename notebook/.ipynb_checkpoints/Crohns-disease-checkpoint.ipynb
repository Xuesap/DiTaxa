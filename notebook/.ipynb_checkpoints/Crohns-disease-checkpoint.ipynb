{
 "cells": [
  {
   "cell_type": "code",
   "execution_count": 1,
   "metadata": {
    "collapsed": true,
    "deletable": true,
    "editable": true
   },
   "outputs": [],
   "source": [
    "import sys\n",
    "sys.path.append('../')\n",
    "from utility.file_utility import FileUtility\n",
    "from scipy.sparse import csr_matrix\n",
    "from shutil import copyfile\n",
    "from bootstrapping.bootstrapping import BootStrapping\n"
   ]
  },
  {
   "cell_type": "code",
   "execution_count": 2,
   "metadata": {
    "collapsed": true
   },
   "outputs": [],
   "source": [
    "BT=BootStrapping('a','b','c')\n",
    "BT.load('../../16S_datasets/crohns/boot/results_bootstrapping_crohns.pickle')\n",
    "BT.plotting_cpe('crohns',\"Crohn's\", ylimv=200,ratio=50)"
   ]
  },
  {
   "cell_type": "code",
   "execution_count": 3,
   "metadata": {
    "collapsed": true
   },
   "outputs": [],
   "source": [
    "from taxonomic_assignment.Seq2Tax import Seq2Tax\n",
    "def get_matrix_label(X, labeler, SRX2row, pos=[], neg=[]):\n",
    "    label_vec=[]\n",
    "    X=X.toarray()\n",
    "    New_X=[]\n",
    "    for srx,label in labeler.items():\n",
    "        if label in pos:\n",
    "            New_X.append(X[SRX2row[srx],:])\n",
    "            label_vec.append(1)\n",
    "        elif label in neg:\n",
    "            New_X.append(X[SRX2row[srx],:])\n",
    "            label_vec.append(0)\n",
    "    return csr_matrix(New_X), label_vec"
   ]
  },
  {
   "cell_type": "code",
   "execution_count": 5,
   "metadata": {
    "collapsed": false
   },
   "outputs": [
    {
     "name": "stderr",
     "output_type": "stream",
     "text": [
      "/mounts/Users/student/asgari/.local/lib/python3.4/site-packages/sklearn/feature_selection/univariate_selection.py:619: RuntimeWarning: invalid value encountered in less_equal\n",
      "  np.arange(1, n_features + 1)]\n",
      "/mounts/Users/student/asgari/.local/lib/python3.4/site-packages/sklearn/feature_selection/univariate_selection.py:622: RuntimeWarning: invalid value encountered in less_equal\n",
      "  return self.pvalues_ <= selected.max()\n"
     ]
    }
   ],
   "source": [
    "mat=FileUtility.load_sparse_csr('../../16S_datasets/crohns/rep/crohns_selfcpe_50000_cpe_-1.npz')\n",
    "features=FileUtility.load_list('../../16S_datasets/crohns/rep/crohns_selfcpe_50000_cpe_-1_features')\n",
    "labels=[1 if x=='CD' else 0 for x in FileUtility.load_list('../../16S_datasets/crohns/rep/labels_disease_complete1359.txt')]\n",
    "\n",
    "SeqTaxa=Seq2Tax()\n",
    "SeqTaxa.extract_markers('/mounts/data/proj/asgari/dissertation/git_repos/16S_datasets/crohns/marker/cd_vs_all_',mat,labels,features)"
   ]
  },
  {
   "cell_type": "code",
   "execution_count": 10,
   "metadata": {
    "collapsed": false
   },
   "outputs": [
    {
     "data": {
      "text/plain": [
       "628"
      ]
     },
     "execution_count": 10,
     "metadata": {},
     "output_type": "execute_result"
    }
   ],
   "source": [
    "labels.count(0)"
   ]
  },
  {
   "cell_type": "code",
   "execution_count": null,
   "metadata": {
    "collapsed": true
   },
   "outputs": [],
   "source": []
  }
 ],
 "metadata": {
  "kernelspec": {
   "display_name": "Python 3",
   "language": "python",
   "name": "python3"
  },
  "language_info": {
   "codemirror_mode": {
    "name": "ipython",
    "version": 3
   },
   "file_extension": ".py",
   "mimetype": "text/x-python",
   "name": "python",
   "nbconvert_exporter": "python",
   "pygments_lexer": "ipython3",
   "version": "3.4.6"
  }
 },
 "nbformat": 4,
 "nbformat_minor": 2
}
