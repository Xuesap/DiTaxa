{
 "cells": [
  {
   "cell_type": "code",
   "execution_count": 5,
   "metadata": {
    "collapsed": true,
    "deletable": true,
    "editable": true
   },
   "outputs": [],
   "source": [
    "import sys\n",
    "sys.path.append('../')\n",
    "from utility.file_utility import FileUtility\n",
    "from utility.math_utility import normalize_mat\n",
    "from sklearn.feature_extraction.text import TfidfVectorizer\n",
    "import numpy as np\n",
    "from scipy import sparse"
   ]
  },
  {
   "cell_type": "code",
   "execution_count": 6,
   "metadata": {
    "collapsed": true,
    "deletable": true,
    "editable": true
   },
   "outputs": [],
   "source": [
    "segs_list=FileUtility.load_list('../../../datasets/deepbio/microbiome/ezbio/ez_segmented.txt')\n",
    "taxa=FileUtility.load_list('../../../datasets/deepbio/microbiome/ezbio/eztaxon_id_taxonomy.txt')\n",
    "seq_taxa=[x.split('\\t')[1].split(';') for x in taxa]"
   ]
  },
  {
   "cell_type": "code",
   "execution_count": 12,
   "metadata": {
    "collapsed": false,
    "deletable": true,
    "editable": true
   },
   "outputs": [],
   "source": [
    "levels={'phylum':1,'class':2,'order':3,'family':4,'genus':5,'species':6} #'superkingdom':0,'phylum':1,'class':2,'order':3,"
   ]
  },
  {
   "cell_type": "code",
   "execution_count": 10,
   "metadata": {
    "collapsed": false,
    "deletable": true,
    "editable": true
   },
   "outputs": [
    {
     "name": "stdout",
     "output_type": "stream",
     "text": [
      "class\n",
      "corpus reading\n",
      "0 th sequences loaded\n",
      "10000 th sequences loaded\n",
      "20000 th sequences loaded\n",
      "30000 th sequences loaded\n",
      "40000 th sequences loaded\n",
      "50000 th sequences loaded\n",
      "60000 th sequences loaded\n",
      "tf-idf assignments\n",
      "normalization\n",
      "saving\n",
      "phylum\n",
      "corpus reading\n",
      "0 th sequences loaded\n",
      "10000 th sequences loaded\n",
      "20000 th sequences loaded\n",
      "30000 th sequences loaded\n",
      "40000 th sequences loaded\n",
      "50000 th sequences loaded\n",
      "60000 th sequences loaded\n",
      "tf-idf assignments\n",
      "normalization\n",
      "saving\n",
      "order\n",
      "corpus reading\n",
      "0 th sequences loaded\n",
      "10000 th sequences loaded\n",
      "20000 th sequences loaded\n",
      "30000 th sequences loaded\n",
      "40000 th sequences loaded\n",
      "50000 th sequences loaded\n",
      "60000 th sequences loaded\n",
      "tf-idf assignments\n",
      "normalization\n",
      "saving\n"
     ]
    }
   ],
   "source": [
    "for level in levels:\n",
    "    print (level)\n",
    "    corpus=dict()\n",
    "    print ('corpus reading')\n",
    "    for seq_idx, seq in enumerate(segs_list):\n",
    "        if seq_idx%10000==0:\n",
    "            print (seq_idx, 'th sequences loaded')\n",
    "        if seq_taxa[seq_idx][levels[level]] not in corpus:\n",
    "            corpus[seq_taxa[seq_idx][levels[level]]]=''\n",
    "        corpus[seq_taxa[seq_idx][levels[level]]]+=' '+seq\n",
    "    \n",
    "    print ('tf-idf assignments')\n",
    "    tax_ids=list(corpus.keys())\n",
    "    tax_ids.sort()\n",
    "    texts=[corpus[idx] for idx in tax_ids]\n",
    "    tf_vectorizer = TfidfVectorizer(use_idf=False, analyzer='word',\n",
    "                                            norm=None, stop_words=[], lowercase=True, binary=False, smooth_idf=False, tokenizer=str.split)\n",
    "    tf_vec = tf_vectorizer.fit_transform(texts)\n",
    "    feature_names = tf_vectorizer.get_feature_names()\n",
    "    \n",
    "    print ('normalization')\n",
    "    normalize_matrix=normalize_mat(tf_vec,axis=0)\n",
    "    normalize_matrix=normalize_matrix.toarray()\n",
    "    prob=[' '.join(['###'.join([tax_ids[x],str(np.round(normalize_matrix[x,i],5))]) for x in np.nonzero(normalize_matrix[:,i])[0].tolist() if np.round(normalize_matrix[x,i],5) > 0.1]) for i in range(normalize_matrix.shape[1])]\n",
    "    print ('saving')\n",
    "    FileUtility.save_sparse_csr('../data_config/intermediate/ez_tf_'+level+'_mat', tf_vec)\n",
    "    FileUtility.save_list('../data_config/intermediate/ez_'+level,tax_ids)\n",
    "    FileUtility.save_list('../data_config/intermediate/ez_cpe_'+level+'_prob',prob)\n",
    "    FileUtility.save_list('../data_config/intermediate/ez_cpe_'+level+'_features',feature_names)"
   ]
  },
  {
   "cell_type": "code",
   "execution_count": 15,
   "metadata": {
    "collapsed": false
   },
   "outputs": [],
   "source": [
    "seq2taxa=dict()\n",
    "for level in levels:\n",
    "    prob=FileUtility.load_list('../data_config/intermediate/ez_cpe_'+level+'_prob')\n",
    "    features=FileUtility.load_list('../data_config/intermediate/ez_cpe_'+level+'_features')\n",
    "    for f_idx,feature in enumerate(features):\n",
    "        if feature not in seq2taxa:\n",
    "            seq2taxa[feature]=dict()\n",
    "        elif level not in seq2taxa[feature]:\n",
    "            seq2taxa[feature][level]=[(pairs.split('###')[0],float(pairs.split('###')[1]))for pairs in prob[f_idx].split()]"
   ]
  },
  {
   "cell_type": "code",
   "execution_count": 17,
   "metadata": {
    "collapsed": false
   },
   "outputs": [],
   "source": [
    "FileUtility.save_obj('../data_config/seq2tax_ez',seq2taxa)"
   ]
  },
  {
   "cell_type": "code",
   "execution_count": 21,
   "metadata": {
    "collapsed": false
   },
   "outputs": [
    {
     "data": {
      "text/plain": [
       "{'class': [('Planctomycetia', 1.0)],\n",
       " 'genus': [('AY963421_g', 0.33333),\n",
       "  ('EF494332_g', 0.33333),\n",
       "  ('GU118256_g', 0.33333)],\n",
       " 'order': [('Planctomycetales', 1.0)],\n",
       " 'phylum': [('Planctomycetes', 1.0)],\n",
       " 'species': [('EU043877_s', 0.33333),\n",
       "  ('EU135274_s', 0.33333),\n",
       "  ('GU118256_s', 0.33333)]}"
      ]
     },
     "execution_count": 21,
     "metadata": {},
     "output_type": "execute_result"
    }
   ],
   "source": [
    "seq2taxa['gtggtattagc']"
   ]
  },
  {
   "cell_type": "code",
   "execution_count": null,
   "metadata": {
    "collapsed": true
   },
   "outputs": [],
   "source": []
  }
 ],
 "metadata": {
  "kernelspec": {
   "display_name": "Python 3",
   "language": "python",
   "name": "python3"
  },
  "language_info": {
   "codemirror_mode": {
    "name": "ipython",
    "version": 3
   },
   "file_extension": ".py",
   "mimetype": "text/x-python",
   "name": "python",
   "nbconvert_exporter": "python",
   "pygments_lexer": "ipython3",
   "version": "3.4.6"
  }
 },
 "nbformat": 4,
 "nbformat_minor": 2
}
