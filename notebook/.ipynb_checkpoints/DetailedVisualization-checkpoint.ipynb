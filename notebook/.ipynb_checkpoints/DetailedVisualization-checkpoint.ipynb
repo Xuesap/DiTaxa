{
 "cells": [
  {
   "cell_type": "code",
   "execution_count": null,
   "metadata": {
    "collapsed": false
   },
   "outputs": [],
   "source": [
    "import sys\n",
    "sys.path.append('../')\n",
    "from utility.file_utility import FileUtility\n",
    "from main.A16SCPEPipeline import Bio16SCPEPipeline\n"
   ]
  },
  {
   "cell_type": "code",
   "execution_count": 2,
   "metadata": {
    "collapsed": true
   },
   "outputs": [],
   "source": [
    "RA_healthy=FileUtility.load_obj('../../16S_datasets/RAoutput/final_outputs/RA_vs_healthy.pickle')"
   ]
  },
  {
   "cell_type": "code",
   "execution_count": 7,
   "metadata": {
    "collapsed": false
   },
   "outputs": [],
   "source": [
    "RA_healthy=FileUtility.load_obj('../../16S_datasets/RAoutput/final_outputs/treatedRA_vs_healthy.pickle')\n",
    "RA_healthy.generate_tree('../../16S_datasets/RAoutput/final_outputs/','treatedRA_vs_healthy')"
   ]
  },
  {
   "cell_type": "code",
   "execution_count": 3,
   "metadata": {
    "collapsed": false
   },
   "outputs": [],
   "source": [
    "pos_file='/mounts/data/proj/asgari/dissertation/git_repos/16S_datasets/ra/tree_cmp_lefse/RA_healthy_untreatedRA_tax_pos_untreatedRA.txt'\n",
    "neg_file='/mounts/data/proj/asgari/dissertation/git_repos/16S_datasets/ra/tree_cmp_lefse/RA_healthy_untreatedRA_tax_neg_healthy.txt'\n",
    "\n",
    "RA_healthy.generate_tree_comparative(pos_file,neg_file,'/mounts/data/proj/asgari/dissertation/git_repos/16S_datasets/RAoutput/final_outputs/','RA_H_lefse')"
   ]
  },
  {
   "cell_type": "code",
   "execution_count": 4,
   "metadata": {
    "collapsed": true
   },
   "outputs": [],
   "source": [
    "RA_healthy=FileUtility.load_obj('../../16S_datasets/dentaloutput/final_outputs/Periodontal.pickle')"
   ]
  },
  {
   "cell_type": "code",
   "execution_count": 5,
   "metadata": {
    "collapsed": true
   },
   "outputs": [],
   "source": [
    "pos_file='/mounts/data/proj/asgari/dissertation/git_repos/16S_datasets/dental/tree_cmp_lefse/Lefse_IN_taxGG_pos_\td\t.txt'\n",
    "neg_file='/mounts/data/proj/asgari/dissertation/git_repos/16S_datasets/dental/tree_cmp_lefse/Lefse_IN_taxGG_neg_\th\t.txt'\n",
    "\n",
    "RA_healthy.generate_tree_comparative(pos_file,neg_file,'/mounts/data/proj/asgari/dissertation/git_repos/16S_datasets/dentaloutput/final_outputs/','D_H_lefse')"
   ]
  },
  {
   "cell_type": "code",
   "execution_count": null,
   "metadata": {
    "collapsed": true
   },
   "outputs": [],
   "source": [
    "RA_healthy=FileUtility.load_obj('../../16S_datasets/RAoutput/final_outputs/untreated_vs_treated.pickle')\n",
    "\n",
    "pos_file='/mounts/data/proj/asgari/dissertation/git_repos/16S_datasets/ra/tree_cmp_lefse/'\n",
    "neg_file='/mounts/data/proj/asgari/dissertation/git_repos/16S_datasets/ra/tree_cmp_lefse/RA_healthy_untreatedRA_tax_neg_healthy.txt'\n",
    "\n",
    "RA_healthy.generate_tree_comparative(pos_file,neg_file,'/mounts/data/proj/asgari/dissertation/git_repos/16S_datasets/RAoutput/final_outputs/','RA_H_lefse')"
   ]
  },
  {
   "cell_type": "code",
   "execution_count": 2,
   "metadata": {
    "collapsed": true
   },
   "outputs": [],
   "source": [
    "dental_healthy=FileUtility.load_obj('../../16S_datasets/dentaloutput_p01/final_outputs/Periodontal.pickle')\n"
   ]
  },
  {
   "cell_type": "code",
   "execution_count": null,
   "metadata": {
    "collapsed": false
   },
   "outputs": [],
   "source": [
    "import matplotlib.pyplot as plt\n",
    "from utility.visualization_utility import create_mat_plot\n",
    "import seaborn as sns; sns.set()\n",
    "\n",
    "%pylab inline\n",
    "%matplotlib inline \n",
    "sns.set_style({'axes.facecolor': 'black','grid.color': 'black','axes.facecolor': 'black','figure.facecolor': 'black'})\n",
    "\n",
    "dental_healthy.generate_heatmap('../../16S_datasets/dentaloutput_p01/final_outputs/heatmap', pos_label='Periodental disease', neg_label='Healthy')"
   ]
  },
  {
   "cell_type": "code",
   "execution_count": null,
   "metadata": {
    "collapsed": true
   },
   "outputs": [],
   "source": []
  }
 ],
 "metadata": {
  "kernelspec": {
   "display_name": "Python 3",
   "language": "python",
   "name": "python3"
  }
 },
 "nbformat": 4,
 "nbformat_minor": 2
}
