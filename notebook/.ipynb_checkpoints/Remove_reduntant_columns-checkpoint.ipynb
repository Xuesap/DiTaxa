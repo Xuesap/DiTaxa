{
 "cells": [
  {
   "cell_type": "code",
   "execution_count": 1,
   "metadata": {
    "collapsed": true
   },
   "outputs": [],
   "source": [
    "import sys\n",
    "sys.path.append('../')\n",
    "from utility.file_utility import FileUtility\n",
    "from scipy.sparse import csr_matrix"
   ]
  },
  {
   "cell_type": "code",
   "execution_count": 2,
   "metadata": {
    "collapsed": true
   },
   "outputs": [],
   "source": [
    "import os\n",
    "import tqdm\n",
    "\n",
    "path = '/mounts/data/proj/asgari/dissertation/datasets/deepbio/taxonomy/ncbi-blast-2.5.0+/bin/'\n",
    "os.environ['PATH'] += ':'+path\n",
    "from Bio.Blast.Applications import NcbiblastnCommandline\n",
    "from Bio.Blast import NCBIXML\n",
    "\n",
    "def is_not_too_ambiguous(results):\n",
    "    levels_id={'Superkingdom':1,'phylum':1,'class':2,'order':3,'family':4,'genus':5,'species':6}\n",
    "    \n",
    "    species=set([x[0][levels_id['species']] for x in results])\n",
    "    genuses=set([x[0][levels_id['genus']] for x in results])\n",
    "    families=set([x[0][levels_id['family']] for x in results])\n",
    "    orders=set([x[0][levels_id['order']] for x in results])\n",
    "    classes=set([x[0][levels_id['class']] for x in results])\n",
    "    phylums=set([x[0][levels_id['phylum']] for x in results])\n",
    "    Superkingdoms=set([x[0][levels_id['Superkingdom']] for x in results])\n",
    "    \n",
    "    if len(species)==1:\n",
    "        return ';'.join(results[0][0])\n",
    "    elif len(genuses)==1:\n",
    "        return ';'.join(results[0][0][0:6])\n",
    "    elif len(families)==1:\n",
    "        return ';'.join(results[0][0][0:5])\n",
    "    if len(orders)==1:\n",
    "        return ';'.join(results[0][0][0:4])\n",
    "    elif len(classes)==1:\n",
    "        return ';'.join(results[0][0][0:3]) \n",
    "    elif len(phylums)==1:\n",
    "        return ';'.join(results[0][0][0:2]) \n",
    "    elif len(Superkingdoms)==1:\n",
    "        return ';'.join(results[0][0][0:1]) \n",
    "    else:\n",
    "        return False"
   ]
  },
  {
   "cell_type": "code",
   "execution_count": 7,
   "metadata": {
    "collapsed": false
   },
   "outputs": [
    {
     "name": "stderr",
     "output_type": "stream",
     "text": [
      "100%|██████████| 1335/1335 [04:33<00:00,  3.94it/s]\n"
     ]
    }
   ],
   "source": [
    "seq_IDS=FileUtility.read_fasta_sequences_ids('/mounts/data/proj/asgari/dissertation/git_repos/16S_datasets/ra/markers/unt_healthy_chi2_relative.fasta')\n",
    "ez_taxa_dict={x.split()[0]:x.split()[1].split(';') for x in FileUtility.load_list('/mounts/data/proj/asgari/dissertation/git_repos/16S_datasets/EZ/raw/eztaxon_id_taxonomy.txt')}\n",
    "\n",
    "final_results=[]\n",
    "for idx, (seq, description) in tqdm.tqdm(seq_IDS.items()):\n",
    "    pval=float(description.split(':')[1])\n",
    "    if pval<=0.05:\n",
    "        FileUtility.create_fasta_file('temp.fasta',[seq],['temp'])\n",
    "        blastx_cline=NcbiblastnCommandline(query='temp.fasta', db=\"/mounts/data/proj/asgari/dissertation/git_repos/16S_datasets/EZ/raw/eztaxon_qiime_full.fasta\", evalue=0.001, outfmt=5, out=\"temp.xml\")\n",
    "        blastx_cline()\n",
    "        f=open(\"temp.xml\",'r')\n",
    "        blast_records = NCBIXML.parse(f)\n",
    "        flag=False\n",
    "        score=-1\n",
    "        alignment_length=-1\n",
    "        results=[]\n",
    "        for blast_record in blast_records:\n",
    "            for alignment in blast_record.alignments:\n",
    "                for hsp in alignment.hsps:\n",
    "                    if not flag and score==-1:\n",
    "                        score=hsp.score\n",
    "                        alignment_length=hsp.align_length\n",
    "                        flag=True\n",
    "                    if hsp.score >= score and hsp.align_length>=alignment_length:\n",
    "                        results.append((ez_taxa_dict[alignment.hit_id],hsp.expect))\n",
    "        if len(results)>0:\n",
    "            res=is_not_too_ambiguous(results)\n",
    "            if res:\n",
    "                final_results.append((seq,res+idx[-1],pval))\n",
    "        else:\n",
    "            final_results.append((seq,'ZZZNOVEL'+idx[-1],pval))"
   ]
  },
  {
   "cell_type": "code",
   "execution_count": 8,
   "metadata": {
    "collapsed": false
   },
   "outputs": [
    {
     "name": "stdout",
     "output_type": "stream",
     "text": [
      "Populating the interactive namespace from numpy and matplotlib\n"
     ]
    },
    {
     "name": "stderr",
     "output_type": "stream",
     "text": [
      "/mounts/Users/student/asgari/.local/lib/python3.4/site-packages/IPython/core/magics/pylab.py:161: UserWarning: pylab import has clobbered these variables: ['flag', 'argsort', 'f']\n",
      "`%matplotlib` prevents importing * from pylab and numpy\n",
      "  \"\\n`%matplotlib` prevents importing * from pylab and numpy\"\n"
     ]
    }
   ],
   "source": [
    "import operator\n",
    "import numpy as np\n",
    "from utility.list_set_util import argsort\n",
    "import matplotlib\n",
    "import matplotlib.pyplot as plt\n",
    "from utility.visualization_utility import create_mat_plot\n",
    "%pylab inline\n",
    "%matplotlib inline \n",
    "\n",
    "sorted_features=sorted(final_results, key=operator.itemgetter(1), reverse=False)"
   ]
  },
  {
   "cell_type": "code",
   "execution_count": 9,
   "metadata": {
    "collapsed": false
   },
   "outputs": [
    {
     "data": {
      "text/plain": [
       "1301"
      ]
     },
     "execution_count": 9,
     "metadata": {},
     "output_type": "execute_result"
    }
   ],
   "source": [
    "len(sorted_features)"
   ]
  },
  {
   "cell_type": "code",
   "execution_count": 10,
   "metadata": {
    "collapsed": true
   },
   "outputs": [],
   "source": [
    "rep=FileUtility.load_sparse_csr('../../16S_datasets/ra/rep/ra_selfposcpe_50000_cpe_-1.npz')\n",
    "features=FileUtility.load_list('../../16S_datasets/ra/rep/ra_selfposcpe_50000_cpe_-1_features')\n",
    "\n",
    "new_matrix=[]\n",
    "for feature, taxnomy, pvalue in sorted_features:\n",
    "    column=features.index(feature)\n",
    "    new_matrix.append(rep[:,column].toarray().T[0].tolist())\n",
    "new_matrix=np.array(new_matrix)"
   ]
  },
  {
   "cell_type": "code",
   "execution_count": 26,
   "metadata": {
    "collapsed": true
   },
   "outputs": [],
   "source": [
    "def median_binary(OLDX):\n",
    "    median_vec=np.median(OLDX,axis=0)\n",
    "    X=np.zeros(OLDX.shape)\n",
    "    X[np.where(OLDX>np.median(OLDX,axis=0))]=1\n",
    "    return X"
   ]
  },
  {
   "cell_type": "code",
   "execution_count": 34,
   "metadata": {
    "collapsed": true
   },
   "outputs": [],
   "source": [
    "def unique_columns2(data):\n",
    "    dt = np.dtype((np.void, data.dtype.itemsize * data.shape[0]))\n",
    "    dataf = data.T.view(dt)\n",
    "    u,uind = np.unique(dataf, return_inverse=True)\n",
    "    u = u.view(data.dtype).reshape(-1,data.shape[0]).T\n",
    "    return (u,uind)"
   ]
  },
  {
   "cell_type": "code",
   "execution_count": 35,
   "metadata": {
    "collapsed": false
   },
   "outputs": [
    {
     "data": {
      "text/plain": [
       "1.8910824332160148"
      ]
     },
     "execution_count": 35,
     "metadata": {},
     "output_type": "execute_result"
    }
   ],
   "source": [
    "np.mean(new_matrix)"
   ]
  },
  {
   "cell_type": "code",
   "execution_count": 37,
   "metadata": {
    "collapsed": false
   },
   "outputs": [],
   "source": [
    "a=median_binary(new_matrix)"
   ]
  },
  {
   "cell_type": "code",
   "execution_count": 39,
   "metadata": {
    "collapsed": false
   },
   "outputs": [],
   "source": [
    "from utility.math_utility import get_sym_kl_rows"
   ]
  },
  {
   "cell_type": "code",
   "execution_count": 40,
   "metadata": {
    "collapsed": true
   },
   "outputs": [],
   "source": [
    "c=get_sym_kl_rows(a)"
   ]
  },
  {
   "cell_type": "code",
   "execution_count": 42,
   "metadata": {
    "collapsed": false
   },
   "outputs": [
    {
     "data": {
      "text/plain": [
       "(1301, 1301)"
      ]
     },
     "execution_count": 42,
     "metadata": {},
     "output_type": "execute_result"
    }
   ],
   "source": [
    "c."
   ]
  },
  {
   "cell_type": "code",
   "execution_count": 80,
   "metadata": {
    "collapsed": false
   },
   "outputs": [],
   "source": [
    "list_of_pairs=np.argwhere(c<10).tolist()"
   ]
  },
  {
   "cell_type": "code",
   "execution_count": 81,
   "metadata": {
    "collapsed": false
   },
   "outputs": [
    {
     "data": {
      "text/plain": [
       "1301"
      ]
     },
     "execution_count": 81,
     "metadata": {},
     "output_type": "execute_result"
    }
   ],
   "source": [
    "import itertools\n",
    "len(set(itertools.chain(*list_of_pairs)))"
   ]
  },
  {
   "cell_type": "code",
   "execution_count": 82,
   "metadata": {
    "collapsed": false
   },
   "outputs": [],
   "source": [
    "list_of_rep=[(x,y) for x,y in list_of_pairs]"
   ]
  },
  {
   "cell_type": "code",
   "execution_count": 83,
   "metadata": {
    "collapsed": false
   },
   "outputs": [
    {
     "data": {
      "text/plain": [
       "1301"
      ]
     },
     "execution_count": 83,
     "metadata": {},
     "output_type": "execute_result"
    }
   ],
   "source": [
    "import itertools\n",
    "len(set(itertools.chain(*list_of_rep)))"
   ]
  },
  {
   "cell_type": "code",
   "execution_count": 84,
   "metadata": {
    "collapsed": false
   },
   "outputs": [],
   "source": [
    "def find_classes(lorep):\n",
    "    found_list=[]\n",
    "    for x,y in lorep:\n",
    "        if found_list==[]:\n",
    "            found_list.append(set([x,y]))\n",
    "        else:\n",
    "            idx_to_add=-1\n",
    "            for idx,group in enumerate(found_list):\n",
    "                if x in group or y in group:\n",
    "                    idx_to_add=idx\n",
    "            if idx_to_add==-1:\n",
    "                found_list.append(set([x,y]))\n",
    "            else:\n",
    "                found_list[idx_to_add]=found_list[idx_to_add].union(set([x,y]))\n",
    "    return found_list"
   ]
  },
  {
   "cell_type": "code",
   "execution_count": 85,
   "metadata": {
    "collapsed": false
   },
   "outputs": [],
   "source": [
    "equi_classes=find_classes(list_of_rep)"
   ]
  },
  {
   "cell_type": "code",
   "execution_count": 86,
   "metadata": {
    "collapsed": false
   },
   "outputs": [
    {
     "data": {
      "text/plain": [
       "895"
      ]
     },
     "execution_count": 86,
     "metadata": {},
     "output_type": "execute_result"
    }
   ],
   "source": [
    "len(equi_classes)"
   ]
  },
  {
   "cell_type": "code",
   "execution_count": 56,
   "metadata": {
    "collapsed": false
   },
   "outputs": [
    {
     "data": {
      "text/plain": [
       "[{58, 142, 149, 859, 889, 891, 893, 943, 959, 960, 1030, 1046},\n",
       " {64, 890},\n",
       " {130, 944},\n",
       " {230, 345, 499},\n",
       " {264, 329},\n",
       " {265, 522},\n",
       " {371, 517},\n",
       " {469, 482},\n",
       " {476, 488},\n",
       " {554, 557, 563, 569, 573},\n",
       " {600, 618},\n",
       " {722, 807, 808},\n",
       " {895, 898},\n",
       " {1119, 1123},\n",
       " {1171, 1172},\n",
       " {1216, 1217},\n",
       " {1230, 1232},\n",
       " {1240, 1295, 1296, 1297, 1299, 1300},\n",
       " {1264, 1278}]"
      ]
     },
     "execution_count": 56,
     "metadata": {},
     "output_type": "execute_result"
    }
   ],
   "source": [
    "equi_classes"
   ]
  },
  {
   "cell_type": "code",
   "execution_count": null,
   "metadata": {
    "collapsed": true
   },
   "outputs": [],
   "source": []
  }
 ],
 "metadata": {
  "kernelspec": {
   "display_name": "Python 3",
   "language": "python",
   "name": "python3"
  },
  "language_info": {
   "codemirror_mode": {
    "name": "ipython",
    "version": 3
   },
   "file_extension": ".py",
   "mimetype": "text/x-python",
   "name": "python",
   "nbconvert_exporter": "python",
   "pygments_lexer": "ipython3",
   "version": "3.4.6"
  }
 },
 "nbformat": 4,
 "nbformat_minor": 2
}
