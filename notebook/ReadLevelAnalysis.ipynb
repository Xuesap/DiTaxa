{
 "cells": [
  {
   "cell_type": "code",
   "execution_count": 2,
   "metadata": {
    "collapsed": true,
    "deletable": true,
    "editable": true
   },
   "outputs": [],
   "source": [
    "import sys\n",
    "sys.path.append('../')\n",
    "from sklearn.preprocessing import normalize\n",
    "from sklearn.feature_extraction.text import TfidfVectorizer\n",
    "import itertools\n",
    "import numpy as np\n",
    "from multiprocessing import Pool\n",
    "import tqdm\n",
    "import random\n",
    "from scipy import sparse\n",
    "from utility.file_utility import FileUtility\n",
    "from Bio import SeqIO\n",
    "import timeit\n",
    "from make_representations.cpe_apply import CPE\n",
    "\n"
   ]
  },
  {
   "cell_type": "code",
   "execution_count": 2,
   "metadata": {
    "collapsed": true,
    "deletable": true,
    "editable": true
   },
   "outputs": [],
   "source": [
    "\n",
    "class Metagenomic16SReadRepresentation:\n",
    "    '''\n",
    "        Make k-mer from directory of fasta files\n",
    "    '''\n",
    "\n",
    "    def __init__(self, fasta_files, indexing, sampling_number=3000, num_p=20):\n",
    "        '''\n",
    "        :param fasta_files: list of fasta files\n",
    "        :param indexing: the index\n",
    "        :param sampling_number:\n",
    "        :param num_p:\n",
    "        '''\n",
    "        self.fasta_files=fasta_files\n",
    "        self.num_p=num_p\n",
    "        self.sampling_number=sampling_number\n",
    "        self.indexing=indexing\n",
    "\n",
    "    def generate_cpes_all_reads(self, cpe_file, vocab, save=False, norm=False):\n",
    "        f=open(cpe_file,'r')\n",
    "        self.CPE_Applier=CPE(f,separator='', merge_size=vocab)\n",
    "        self.cpe_vocab=[''.join(x.split()).replace('</w>','').lower() for x in FileUtility.load_list(cpe_file)[1::]]\n",
    "        self.cpe_vocab=list(set(self.cpe_vocab))\n",
    "        self.cpe_vocab.sort()\n",
    "        self.cpe_vectorizer = TfidfVectorizer(use_idf=False, vocabulary=self.cpe_vocab, analyzer='word',\n",
    "                                          norm=None, stop_words=[], lowercase=True, binary=False, tokenizer=str.split)\n",
    "\n",
    "        data = dict()#np.zeros((len(self.fasta_files), len(self.cpe_vocab))).astype(np.float64)\n",
    "\n",
    "        # multi processing extraction of cpe distributions\n",
    "        pool = Pool(processes=self.num_p)\n",
    "        for ky, (v,s) in tqdm.tqdm(pool.imap_unordered(self.get_cpe_distribution_reads, self.fasta_files, chunksize=1),\n",
    "                               total=len(self.fasta_files)):\n",
    "            FileUtility.save_obj('RA_reads_'+str(self.indexing[ky]), v)\n",
    "        FileUtility.save_list('RA_reads_vocab',self.cpe_vocab)\n",
    "        # normalize the frequencies\n",
    "        if norm:\n",
    "            data = normalize(data, axis=1, norm='l1')\n",
    "        data = sparse.csr_matrix(data)\n",
    "\n",
    "        return data\n",
    "\n",
    "    def get_cpe_distribution_reads(self, file_name):\n",
    "        corpus=[]\n",
    "        if file_name[-1]=='q':\n",
    "            for cur_record in SeqIO.parse(file_name, \"fastq\"):\n",
    "                corpus.append(str(cur_record.seq).lower())\n",
    "        else:\n",
    "            for cur_record in SeqIO.parse(file_name, \"fasta\"):\n",
    "                corpus.append(str(cur_record.seq).lower())\n",
    "        print()\n",
    "        corpus=list(set(corpus))\n",
    "        tot_size=len(corpus)\n",
    "        if self.sampling_number==-1:\n",
    "            random.shuffle(corpus)\n",
    "        else:\n",
    "            corpus = random.sample(corpus, min(self.sampling_number,len(corpus)))\n",
    "        corpus=[self.CPE_Applier.segment(x) for x in corpus]\n",
    "        return file_name,(self.cpe_vectorizer.fit_transform(corpus).toarray(),tot_size)\n"
   ]
  },
  {
   "cell_type": "code",
   "execution_count": 3,
   "metadata": {
    "collapsed": true,
    "deletable": true,
    "editable": true
   },
   "outputs": [],
   "source": [
    "fasta_files, mapping = FileUtility.read_fasta_directory('../../../datasets/deepbio/microbiome/RA/', 'fastq')"
   ]
  },
  {
   "cell_type": "code",
   "execution_count": 4,
   "metadata": {
    "collapsed": false,
    "deletable": true,
    "editable": true
   },
   "outputs": [],
   "source": [
    "Meta16S=Metagenomic16SReadRepresentation(fasta_files,mapping, sampling_number=5000)"
   ]
  },
  {
   "cell_type": "code",
   "execution_count": 5,
   "metadata": {
    "collapsed": false,
    "deletable": true,
    "editable": true
   },
   "outputs": [
    {
     "name": "stderr",
     "output_type": "stream",
     "text": [
      "100%|██████████| 114/114 [1:13:18<00:00, 18.56s/it]\n",
      "/mounts/Users/student/asgari/.local/lib/python3.4/site-packages/scipy/sparse/sputils.py:114: UserWarning: object dtype is not supported by sparse matrices\n",
      "  warnings.warn(\"object dtype is not supported by sparse matrices\")\n"
     ]
    },
    {
     "data": {
      "text/plain": [
       "<1x1 sparse matrix of type '<class 'numpy.object_'>'\n",
       "\twith 0 stored elements in Compressed Sparse Row format>"
      ]
     },
     "execution_count": 5,
     "metadata": {},
     "output_type": "execute_result"
    }
   ],
   "source": [
    "Meta16S.generate_cpes_all_reads('../../16S_datasets/ra/cpe/ra_cpe',vocab=50000)"
   ]
  },
  {
   "cell_type": "code",
   "execution_count": null,
   "metadata": {
    "collapsed": false,
    "deletable": true,
    "editable": true
   },
   "outputs": [
    {
     "name": "stdout",
     "output_type": "stream",
     "text": [
      "0\n",
      "1\n",
      "(10000, 49927)\n",
      "2\n",
      "(15000, 49927)\n",
      "3\n",
      "(20000, 49927)\n",
      "4\n",
      "(24981, 49927)\n",
      "5\n",
      "(29981, 49927)\n",
      "6\n",
      "(34981, 49927)\n",
      "7\n",
      "(39981, 49927)\n",
      "8\n",
      "(44981, 49927)\n",
      "9\n",
      "(49981, 49927)\n",
      "10\n",
      "(54305, 49927)\n",
      "11\n",
      "(59305, 49927)\n",
      "12\n",
      "(64305, 49927)\n",
      "13\n",
      "(69305, 49927)\n",
      "14\n",
      "(74305, 49927)\n",
      "15\n",
      "(79305, 49927)\n",
      "16\n",
      "(82880, 49927)\n",
      "17\n",
      "(87880, 49927)\n",
      "18\n",
      "(92880, 49927)\n",
      "19\n",
      "(97880, 49927)\n",
      "20\n",
      "(102880, 49927)\n",
      "21\n",
      "(107880, 49927)\n",
      "22\n",
      "(112880, 49927)\n",
      "23\n",
      "(117880, 49927)\n",
      "24\n",
      "(122880, 49927)\n",
      "25\n",
      "(127880, 49927)\n",
      "26\n",
      "(132880, 49927)\n",
      "27\n",
      "(137880, 49927)\n",
      "28\n",
      "(142880, 49927)\n",
      "29\n",
      "(147880, 49927)\n",
      "30\n",
      "(152880, 49927)\n",
      "31\n",
      "(157880, 49927)\n",
      "32\n",
      "(162880, 49927)\n",
      "33\n",
      "(167880, 49927)\n",
      "34\n",
      "(172880, 49927)\n",
      "35\n",
      "(177880, 49927)\n",
      "36\n",
      "(182880, 49927)\n",
      "37\n",
      "(187880, 49927)\n",
      "38\n",
      "(192880, 49927)\n",
      "39\n",
      "(197880, 49927)\n",
      "40\n",
      "(202880, 49927)\n",
      "41\n",
      "(207880, 49927)\n",
      "42\n",
      "(212880, 49927)\n",
      "43\n",
      "(217880, 49927)\n",
      "44\n"
     ]
    }
   ],
   "source": [
    "for i in range(0,114):\n",
    "    print(i)\n",
    "    if i==0:\n",
    "        bigmat=FileUtility.load_obj('RA_reads_'+str(i)+'.pickle')\n",
    "    else:\n",
    "        bigmat=np.concatenate((bigmat, FileUtility.load_obj('RA_reads_'+str(i)+'.pickle')), axis=0)\n",
    "        print (bigmat.shape)"
   ]
  },
  {
   "cell_type": "code",
   "execution_count": null,
   "metadata": {
    "collapsed": false,
    "deletable": true,
    "editable": true
   },
   "outputs": [],
   "source": [
    "big_mat.shape"
   ]
  },
  {
   "cell_type": "code",
   "execution_count": 11,
   "metadata": {
    "collapsed": false,
    "deletable": true,
    "editable": true
   },
   "outputs": [
    {
     "data": {
      "text/plain": [
       "(49927,)"
      ]
     },
     "execution_count": 11,
     "metadata": {},
     "output_type": "execute_result"
    }
   ],
   "source": [
    "big_mat[1,:].shape"
   ]
  },
  {
   "cell_type": "code",
   "execution_count": null,
   "metadata": {
    "collapsed": true,
    "deletable": true,
    "editable": true
   },
   "outputs": [],
   "source": []
  }
 ],
 "metadata": {
  "kernelspec": {
   "display_name": "Python 3",
   "language": "python",
   "name": "python3"
  },
  "language_info": {
   "codemirror_mode": {
    "name": "ipython",
    "version": 3
   },
   "file_extension": ".py",
   "mimetype": "text/x-python",
   "name": "python",
   "nbconvert_exporter": "python",
   "pygments_lexer": "ipython3",
   "version": "3.4.6"
  }
 },
 "nbformat": 4,
 "nbformat_minor": 2
}
