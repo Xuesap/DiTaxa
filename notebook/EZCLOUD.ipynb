{
 "cells": [
  {
   "cell_type": "code",
   "execution_count": 1,
   "metadata": {
    "collapsed": true,
    "deletable": true,
    "editable": true
   },
   "outputs": [],
   "source": [
    "import sys\n",
    "sys.path.append('../')\n",
    "import numpy as np\n",
    "from utility.file_utility import FileUtility\n",
    "import random\n",
    "from sklearn.preprocessing import normalize\n",
    "from sklearn.feature_extraction.text import TfidfVectorizer\n",
    "from utility.math_utility import normalize_mat"
   ]
  },
  {
   "cell_type": "code",
   "execution_count": 2,
   "metadata": {
    "collapsed": false,
    "deletable": true,
    "editable": true
   },
   "outputs": [
    {
     "data": {
      "text/plain": [
       "True"
      ]
     },
     "execution_count": 2,
     "metadata": {},
     "output_type": "execute_result"
    }
   ],
   "source": [
    "ez_fasta_dict=FileUtility.read_fasta_sequences_ids('/mounts/data/proj/asgari/dissertation/git_repos/16S_datasets/EZ/raw/eztaxon_qiime_full.fasta')\n",
    "ez_taxa_dict={x.split()[0]:x.split()[1].split(';') for x in FileUtility.load_list('/mounts/data/proj/asgari/dissertation/git_repos/16S_datasets/EZ/raw/eztaxon_id_taxonomy.txt')}\n",
    "ez_seq_keys=list(ez_fasta_dict.keys())\n",
    "ez_seq_keys.sort()\n",
    "ez_taxa_keys=list(ez_taxa_dict.keys())\n",
    "ez_taxa_keys.sort()\n",
    "ez_taxa_keys==ez_seq_keys"
   ]
  },
  {
   "cell_type": "code",
   "execution_count": 3,
   "metadata": {
    "collapsed": true,
    "deletable": true,
    "editable": true
   },
   "outputs": [],
   "source": [
    "from make_representations.cpe_apply import CPE\n",
    "import tqdm\n",
    "from multiprocessing import Pool"
   ]
  },
  {
   "cell_type": "code",
   "execution_count": 4,
   "metadata": {
    "collapsed": false,
    "deletable": true,
    "editable": true
   },
   "outputs": [],
   "source": [
    "f=open('../../16S_datasets/ra/cpe/ra_cpe','r')\n",
    "CPE_Applier=CPE(f, merge_size=-1,separator='')"
   ]
  },
  {
   "cell_type": "code",
   "execution_count": 5,
   "metadata": {
    "collapsed": true,
    "deletable": true,
    "editable": true
   },
   "outputs": [],
   "source": [
    "segmentation_input=[(x,y[0]) for x,y in ez_fasta_dict.items()]"
   ]
  },
  {
   "cell_type": "code",
   "execution_count": 6,
   "metadata": {
    "collapsed": false,
    "deletable": true,
    "editable": true
   },
   "outputs": [
    {
     "name": "stderr",
     "output_type": "stream",
     "text": [
      "100%|██████████| 63240/63240 [18:43<00:00, 56.30it/s]\n"
     ]
    }
   ],
   "source": [
    "ez_segmented=dict()\n",
    "pool = Pool(processes=20)\n",
    "for key, v in tqdm.tqdm(pool.imap_unordered(CPE_Applier.segment_with_keys, segmentation_input, chunksize=5),\n",
    "                       total=len(segmentation_input)):\n",
    "    ez_segmented[key]=v"
   ]
  },
  {
   "cell_type": "code",
   "execution_count": 17,
   "metadata": {
    "collapsed": true
   },
   "outputs": [],
   "source": [
    "out_dir='/mounts/data/proj/asgari/dissertation/git_repos/16S_datasets/ra/specific_ez/'\n",
    "# save the segmented corpus\n",
    "FileUtility.save_obj(out_dir+'segmented_ez',ez_segmented)"
   ]
  },
  {
   "cell_type": "code",
   "execution_count": 15,
   "metadata": {
    "collapsed": false
   },
   "outputs": [
    {
     "name": "stderr",
     "output_type": "stream",
     "text": [
      "100%|██████████| 63240/63240 [00:00<00:00, 406984.05it/s]\n"
     ]
    }
   ],
   "source": [
    "\n",
    "    "
   ]
  },
  {
   "cell_type": "code",
   "execution_count": 16,
   "metadata": {
    "collapsed": false
   },
   "outputs": [
    {
     "data": {
      "text/plain": [
       "('127466',\n",
       " 'acaca tgcaag tcg agggg cagca tggtc ttag cttg ctaagg acg atgg cg accgg cgca cggg tgag taa cacg tatcc aacctg ccgtcta ctc ttggac agcc ttctg aaagg aag attaata caag atgg catcg tgag tccg catg ttc tcatg atta aaggta ttccgg tagacg atggg catg cgttcc atta catag tagg cgagg taacgg ccca cctag tcttcc atgga taggg gta ctgag aggaagg tcccc caca ttgg aactg aga cacg gacc aaac tccta cggg aggcag cag tgaag aata ttgg tcaa tggg cgca agcctg aaccag cca agtag cgtgaagg atg actgcc ctaagg attg taaa cttctt ttata cagg aata acg tcggata tg aatacc cgtttg ca tgta cttta tg aataagg atcggcta actccg tg tcagcag ccg cggta ata ccgagg atccg agtg tta tccgga ttta ttggg tttaaaggg agcg tag atgga tg tttaag tcag ttgtg aaactttg ccg ctcaa ccgta aaattg cagttg ata ctgga ta tcttg agtg cagttg aggcagg cggaa ttcg tgg tgta tcgg tgaaatg cttag atatca cgaag aa ctccga ttgcg aaggc agcctg cta agctg caactg aca ttgagg ctcg aaag tgtggg ta tcaaacagg attag atacc ctgg tag tcca cacggta aacg atgaa tag tagctg tgtgcg ata tacgg caag cgg ccaag cgatag cg ttaagta ttccacag gggg agtgcg ccggcaa cggtg aaacta aaagg aattgg cggggg cc cgca caag cgg agg aaca tgtgg tttaa ttagatg atacgcg agg aacc ttacc cgag attaaa ttgcag atgaa ttacgg tgaa agctg ttag ccg caagg ca tctatg aagg tgctg catgg ttg tcgtcag ctcg tgccg tgagg tgtcgg ctta agtg cca taacg agcg caacc ctcg ttg tcag ttacta acagg ttccg ctgagg actctg acaag actg ccatcg taag a tgtgagg aagg tggg gatg acg tcaa atcag cacgg cc cttacg tccgggg ctaca cacgtg ttacaa tggggg gta cag aggg ccgcta ccagg cg agtg gatg ccaa tctcaa aaacc tttctcag ttcgga ttggag tctg caacc cgac tccacg aag ctgga ttcg ctagta atcg cgca tcag ccacgg cgcg gtg aata cgttcc cggg ccttg ta caca ccgcccg tcaag cca tggg agcc gggggta cctg aag tgcg taaccg cg aggag cgcc ctaggg taaa actg gtg actg ggg c t')"
      ]
     },
     "execution_count": 16,
     "metadata": {},
     "output_type": "execute_result"
    }
   ],
   "source": [
    "x,y"
   ]
  },
  {
   "cell_type": "code",
   "execution_count": 19,
   "metadata": {
    "collapsed": true,
    "deletable": true,
    "editable": true
   },
   "outputs": [],
   "source": [
    "levels={'phylum':1,'class':2,'order':3,'family':4,'genus':5,'species':6}\n",
    "seq_taxa=ez_taxa_dict"
   ]
  },
  {
   "cell_type": "code",
   "execution_count": null,
   "metadata": {
    "collapsed": false
   },
   "outputs": [
    {
     "name": "stderr",
     "output_type": "stream",
     "text": [
      "  2%|▏         | 1454/63240 [00:00<00:04, 14524.26it/s]"
     ]
    },
    {
     "name": "stdout",
     "output_type": "stream",
     "text": [
      "family\n",
      "corpus reading\n"
     ]
    },
    {
     "name": "stderr",
     "output_type": "stream",
     "text": [
      " 42%|████▏     | 26349/63240 [03:05<07:50, 78.38it/s]  "
     ]
    }
   ],
   "source": [
    "for level in levels:\n",
    "    print (level)\n",
    "    corpus=dict()\n",
    "    print ('corpus reading')\n",
    "    for seq_idx,seq in tqdm.tqdm(ez_segmented.items()):\n",
    "        if seq_taxa[seq_idx][levels[level]] not in corpus:\n",
    "            corpus[seq_taxa[seq_idx][levels[level]]]=''\n",
    "        corpus[seq_taxa[seq_idx][levels[level]]]+=' '+seq\n",
    "    print ('tf-idf assignments')\n",
    "    tax_ids=list(corpus.keys())\n",
    "    tax_ids.sort()\n",
    "    texts=[corpus[idx] for idx in tax_ids]\n",
    "    tf_vectorizer = TfidfVectorizer(use_idf=False, analyzer='word',\n",
    "                                            norm=None, stop_words=[], lowercase=True, binary=False, smooth_idf=False, tokenizer=str.split)\n",
    "    tf_vec = tf_vectorizer.fit_transform(texts)\n",
    "    feature_names = tf_vectorizer.get_feature_names()\n",
    "    print ('normalization')\n",
    "    normalize_matrix=normalize_mat(tf_vec,axis=0)\n",
    "    normalize_matrix=normalize_matrix.toarray()\n",
    "    prob=[' '.join(['###'.join([tax_ids[x],str(np.round(normalize_matrix[x,i],5))]) for x in np.nonzero(normalize_matrix[:,i])[0].tolist() if np.round(normalize_matrix[x,i],5) > 0.1]) for i in range(normalize_matrix.shape[1])]\n",
    "    print ('saving')\n",
    "    FileUtility.save_sparse_csr(out_dir+'ez_tf_'+level+'_mat', tf_vec)\n",
    "    FileUtility.save_list(out_dir+'ez_'+level,tax_ids)\n",
    "    FileUtility.save_list(out_dir+'ez_cpe_'+level+'_prob',prob)\n",
    "    FileUtility.save_list(out_dir+'ez_cpe_'+level+'_features',feature_names)"
   ]
  },
  {
   "cell_type": "code",
   "execution_count": null,
   "metadata": {
    "collapsed": true
   },
   "outputs": [],
   "source": []
  }
 ],
 "metadata": {
  "kernelspec": {
   "display_name": "Python 3",
   "language": "python",
   "name": "python3"
  },
  "language_info": {
   "codemirror_mode": {
    "name": "ipython",
    "version": 3
   },
   "file_extension": ".py",
   "mimetype": "text/x-python",
   "name": "python",
   "nbconvert_exporter": "python",
   "pygments_lexer": "ipython3",
   "version": "3.4.6"
  }
 },
 "nbformat": 4,
 "nbformat_minor": 2
}
