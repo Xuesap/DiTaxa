{
 "cells": [
  {
   "cell_type": "code",
   "execution_count": 1,
   "metadata": {
    "collapsed": true
   },
   "outputs": [],
   "source": [
    "import sys\n",
    "sys.path.append('../')\n",
    "from utility.file_utility import FileUtility\n",
    "from scipy.sparse import csr_matrix\n",
    "import os\n",
    "import tqdm\n",
    "path = '/mounts/data/proj/asgari/dissertation/datasets/deepbio/taxonomy/ncbi-blast-2.5.0+/bin/'\n",
    "os.environ['PATH'] += ':'+path\n",
    "from Bio.Blast.Applications import NcbiblastnCommandline\n",
    "from Bio.Blast import NCBIXML"
   ]
  },
  {
   "cell_type": "code",
   "execution_count": null,
   "metadata": {
    "collapsed": true
   },
   "outputs": [],
   "source": [
    "class FastaMarkers2Excall:\n",
    "    \n",
    "    def __init__(fasta_file):\n",
    "        seq_IDS=FileUtility.read_fasta_sequences_ids('/mounts/data/proj/asgari/dissertation/git_repos/16S_datasets/ra/markers/unt_healthy_chi2_relative.fasta')\n",
    "    \n",
    "    def lowest_certain_level(results):\n",
    "        levels_id={'Superkingdom':1,'phylum':1,'class':2,'order':3,'family':4,'genus':5,'species':6}\n",
    "\n",
    "        species=set([x[0][levels_id['species']] for x in results])\n",
    "        genuses=set([x[0][levels_id['genus']] for x in results])\n",
    "        families=set([x[0][levels_id['family']] for x in results])\n",
    "        orders=set([x[0][levels_id['order']] for x in results])\n",
    "        classes=set([x[0][levels_id['class']] for x in results])\n",
    "        phylums=set([x[0][levels_id['phylum']] for x in results])\n",
    "        Superkingdoms=set([x[0][levels_id['Superkingdom']] for x in results])\n",
    "\n",
    "        if len(species)==1:\n",
    "            return ';'.join(results[0][0])\n",
    "        elif len(genuses)==1:\n",
    "            return ';'.join(results[0][0][0:6])\n",
    "        elif len(families)==1:\n",
    "            return ';'.join(results[0][0][0:5])\n",
    "        if len(orders)==1:\n",
    "            return ';'.join(results[0][0][0:4])\n",
    "        elif len(classes)==1:\n",
    "            return ';'.join(results[0][0][0:3]) \n",
    "        elif len(phylums)==1:\n",
    "            return ';'.join(results[0][0][0:2]) \n",
    "        elif len(Superkingdoms)==1:\n",
    "            return ';'.join(results[0][0][0:1]) \n",
    "        else:\n",
    "            return False\n",
    "        \n",
    "\n",
    "\n",
    "ez_taxa_dict={x.split()[0]:x.split()[1].split(';') for x in FileUtility.load_list('/mounts/data/proj/asgari/dissertation/git_repos/16S_datasets/EZ/raw/eztaxon_id_taxonomy.txt')}\n",
    "\n",
    "final_results=[]\n",
    "for idx, (seq, description) in tqdm.tqdm(seq_IDS.items()):\n",
    "    pval=float(description.split(':')[1])\n",
    "    if pval<=0.01:\n",
    "        FileUtility.create_fasta_file('temp.fasta',[seq],['temp'])\n",
    "        blastx_cline=NcbiblastnCommandline(query='temp.fasta', db=\"/mounts/data/proj/asgari/dissertation/git_repos/16S_datasets/EZ/raw/eztaxon_qiime_full.fasta\", evalue=0.001, outfmt=5, out=\"temp.xml\")\n",
    "        blastx_cline()\n",
    "        f=open(\"temp.xml\",'r')\n",
    "        blast_records = NCBIXML.parse(f)\n",
    "        flag=False\n",
    "        score=-1\n",
    "        alignment_length=-1\n",
    "        results=[]\n",
    "        for blast_record in blast_records:\n",
    "            for alignment in blast_record.alignments:\n",
    "                for hsp in alignment.hsps:\n",
    "                    if not flag and score==-1:\n",
    "                        score=hsp.score\n",
    "                        alignment_length=hsp.align_length\n",
    "                        flag=True\n",
    "                    if hsp.score >= score and hsp.align_length>=alignment_length:\n",
    "                        results.append((ez_taxa_dict[alignment.hit_id],hsp.expect))\n",
    "        if len(results)>0:\n",
    "            res=is_not_too_ambiguous(results)\n",
    "            if res:\n",
    "                final_results.append((seq,res+idx[-1],pval))\n",
    "        else:\n",
    "            final_results.append((seq,'ZZZNOVEL'+idx[-1],pval))"
   ]
  }
 ],
 "metadata": {
  "kernelspec": {
   "display_name": "Python 3",
   "language": "python",
   "name": "python3"
  },
  "language_info": {
   "codemirror_mode": {
    "name": "ipython",
    "version": 3
   },
   "file_extension": ".py",
   "mimetype": "text/x-python",
   "name": "python",
   "nbconvert_exporter": "python",
   "pygments_lexer": "ipython3",
   "version": "3.4.6"
  }
 },
 "nbformat": 4,
 "nbformat_minor": 2
}
