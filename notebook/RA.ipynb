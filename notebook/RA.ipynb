{
 "cells": [
  {
   "cell_type": "code",
   "execution_count": 1,
   "metadata": {
    "collapsed": true,
    "deletable": true,
    "editable": true
   },
   "outputs": [],
   "source": [
    "import sys\n",
    "sys.path.append('../')\n",
    "from utility.file_utility import FileUtility\n",
    "from scipy.sparse import csr_matrix\n",
    "from shutil import copyfile\n",
    "\n"
   ]
  },
  {
   "cell_type": "code",
   "execution_count": 2,
   "metadata": {
    "collapsed": true,
    "deletable": true,
    "editable": true
   },
   "outputs": [],
   "source": [
    "labeler=dict([tuple(x.split(',')) for x in FileUtility.load_list('../../bio_cpe_datacollection/representations/RA/grouping.csv')[1::]])"
   ]
  },
  {
   "cell_type": "code",
   "execution_count": 3,
   "metadata": {
    "collapsed": false,
    "deletable": true,
    "editable": true
   },
   "outputs": [],
   "source": [
    "SRX2row=dict([(x.split('/')[-1].split('.')[0],idx) for idx, x in enumerate(FileUtility.load_list('../../bio_cpe_datacollection/representations/RA/RA_100000_cpe_10000_meta'))])"
   ]
  },
  {
   "cell_type": "markdown",
   "metadata": {
    "deletable": true,
    "editable": true
   },
   "source": [
    "## Bootstrapping"
   ]
  },
  {
   "cell_type": "code",
   "execution_count": 40,
   "metadata": {
    "collapsed": true,
    "deletable": true,
    "editable": true
   },
   "outputs": [],
   "source": [
    "from bootstrapping.bootstrapping import BootStrapping\n"
   ]
  },
  {
   "cell_type": "code",
   "execution_count": 42,
   "metadata": {
    "collapsed": true,
    "deletable": true,
    "editable": true
   },
   "outputs": [],
   "source": [
    "BT=BootStrapping('a','b','c')\n",
    "BT.load('../../16S_datasets/ra/boot/results_bootstrapping_synthetic.pickle')\n",
    "BT.plotting_cpe('Arthiris','Arthiris',ylimv=100,ratio=100)"
   ]
  },
  {
   "cell_type": "markdown",
   "metadata": {
    "deletable": true,
    "editable": true
   },
   "source": [
    "## Marker finding"
   ]
  },
  {
   "cell_type": "code",
   "execution_count": 4,
   "metadata": {
    "collapsed": true,
    "deletable": true,
    "editable": true
   },
   "outputs": [],
   "source": [
    "from taxonomic_assignment.Seq2Tax import Seq2Tax\n",
    "def get_matrix_label(X, labeler, SRX2row, pos=[], neg=[]):\n",
    "    label_vec=[]\n",
    "    X=X.toarray()\n",
    "    New_X=[]\n",
    "    for srx,label in labeler.items():\n",
    "        if label in pos:\n",
    "            New_X.append(X[SRX2row[srx],:])\n",
    "            label_vec.append(1)\n",
    "        elif label in neg:\n",
    "            New_X.append(X[SRX2row[srx],:])\n",
    "            label_vec.append(0)\n",
    "    return csr_matrix(New_X), label_vec"
   ]
  },
  {
   "cell_type": "code",
   "execution_count": 22,
   "metadata": {
    "collapsed": false,
    "deletable": true,
    "editable": true
   },
   "outputs": [
    {
     "name": "stderr",
     "output_type": "stream",
     "text": [
      "/mounts/Users/student/asgari/.local/lib/python3.4/site-packages/sklearn/feature_selection/univariate_selection.py:619: RuntimeWarning: invalid value encountered in less_equal\n",
      "  np.arange(1, n_features + 1)]\n",
      "/mounts/Users/student/asgari/.local/lib/python3.4/site-packages/sklearn/feature_selection/base.py:80: UserWarning: No features were selected: either the data is too noisy or the selection test too strict.\n",
      "  UserWarning)\n"
     ]
    }
   ],
   "source": [
    "mat=FileUtility.load_sparse_csr('../../16S_datasets/ra/rep/ra_selfposcpe_50000_cpe_-1.npz')\n",
    "features=FileUtility.load_list('../../16S_datasets/ra/rep/ra_selfposcpe_50000_cpe_-1_features')\n",
    "X,labels=get_matrix_label(mat, labeler, SRX2row, pos=['healthy'], neg=['treated_RA','untreated_RA'])\n",
    "SeqTaxa=Seq2Tax()\n",
    "SeqTaxa.extract_markers('/mounts/data/proj/asgari/dissertation/git_repos/16S_datasets/ra/markers/H_vs_tr&ut',X,labels,features)"
   ]
  },
  {
   "cell_type": "code",
   "execution_count": 13,
   "metadata": {
    "collapsed": false
   },
   "outputs": [
    {
     "data": {
      "text/plain": [
       "(98, 49927)"
      ]
     },
     "execution_count": 13,
     "metadata": {},
     "output_type": "execute_result"
    }
   ],
   "source": [
    "X.shape"
   ]
  },
  {
   "cell_type": "code",
   "execution_count": 27,
   "metadata": {
    "collapsed": false
   },
   "outputs": [
    {
     "name": "stdout",
     "output_type": "stream",
     "text": [
      "tacggaggatccgagcgttatccggatttattgggtttaaagggagcgtagatggatgtttaagtcagtt\n",
      "gtgaaagtttgcggctcaaccgtaaaattgcagttgatactggatatcttgagtgctgttgaggcaggcg\n",
      "gaattcgtggtgtagcggtgaaatgcttagatatc\n"
     ]
    }
   ],
   "source": [
    "a='TACGGAGGATCCGAGCGTTATCCGGATTTATTGGGTTTAAAGGGAGCGTAGATGGATGTTTAAGTCAGTT\\nGTGAAAGTTTGCGGCTCAACCGTAAAATTGCAGTTGATACTGGATATCTTGAGTGCTGTTGAGGCAGGCG\\nGAATTCGTGGTGTAGCGGTGAAATGCTTAGATATC'\n",
    "#b='tacggaggatccgagcgttatccggatttattgggtttaaagggagcgtagatggatgtttaagtcagttgtgaaagtttgcggctcaaccgtaaaattgcagttgatactggatatcctgagtgcagttgaggcaggcggaattcgtggtgtagcggtgaaatgcttagatatc'\n",
    "print(a.lower())"
   ]
  },
  {
   "cell_type": "code",
   "execution_count": null,
   "metadata": {
    "collapsed": true
   },
   "outputs": [],
   "source": []
  }
 ],
 "metadata": {
  "kernelspec": {
   "display_name": "Python 3",
   "language": "python",
   "name": "python3"
  },
  "language_info": {
   "codemirror_mode": {
    "name": "ipython",
    "version": 3
   },
   "file_extension": ".py",
   "mimetype": "text/x-python",
   "name": "python",
   "nbconvert_exporter": "python",
   "pygments_lexer": "ipython3",
   "version": "3.4.6"
  }
 },
 "nbformat": 4,
 "nbformat_minor": 2
}
