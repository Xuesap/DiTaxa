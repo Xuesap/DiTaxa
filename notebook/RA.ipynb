{
 "cells": [
  {
   "cell_type": "code",
   "execution_count": 26,
   "metadata": {
    "collapsed": true,
    "deletable": true,
    "editable": true
   },
   "outputs": [],
   "source": [
    "import sys\n",
    "sys.path.append('../')\n",
    "from utility.file_utility import FileUtility\n",
    "from scipy.sparse import csr_matrix\n",
    "from shutil import copyfile\n",
    "\n"
   ]
  },
  {
   "cell_type": "code",
   "execution_count": 27,
   "metadata": {
    "collapsed": true,
    "deletable": true,
    "editable": true
   },
   "outputs": [],
   "source": [
    "labeler=dict([tuple(x.split(',')) for x in FileUtility.load_list('../../bio_cpe_datacollection/representations/RA/grouping.csv')[1::]])"
   ]
  },
  {
   "cell_type": "code",
   "execution_count": 28,
   "metadata": {
    "collapsed": false,
    "deletable": true,
    "editable": true
   },
   "outputs": [],
   "source": [
    "SRX2row=dict([(x.split('/')[-1].split('.')[0],idx) for idx, x in enumerate(FileUtility.load_list('../../bio_cpe_datacollection/representations/RA/RA_100000_cpe_10000_meta'))])"
   ]
  },
  {
   "cell_type": "code",
   "execution_count": 5,
   "metadata": {
    "collapsed": false,
    "deletable": true,
    "editable": true
   },
   "outputs": [],
   "source": [
    "def get_matrix_label(X, labeler, SRX2row, pos=[], neg=[]):\n",
    "    label_vec=[]\n",
    "    X=X.toarray()\n",
    "    New_X=[]\n",
    "    for srx,label in labeler.items():\n",
    "        if label in pos:\n",
    "            New_X.append(X[SRX2row[srx],:])\n",
    "            label_vec.append(1)\n",
    "        elif label in neg:\n",
    "            New_X.append(X[SRX2row[srx],:])\n",
    "            label_vec.append(0)\n",
    "    return csr_matrix(New_X), label_vec\n",
    "    "
   ]
  },
  {
   "cell_type": "code",
   "execution_count": 29,
   "metadata": {
    "collapsed": true,
    "deletable": true,
    "editable": true
   },
   "outputs": [],
   "source": [
    "mat=FileUtility.load_sparse_csr('../../16S_datasets/ra/rep/ra_selfposcpe_50000_cpe_5000.npz')\n",
    "features=FileUtility.load_list('../../16S_datasets/ra/rep/ra_selfposcpe_50000_cpe_5000_features')\n"
   ]
  },
  {
   "cell_type": "code",
   "execution_count": 30,
   "metadata": {
    "collapsed": false,
    "deletable": true,
    "editable": true
   },
   "outputs": [],
   "source": [
    "X,labels=get_matrix_label(mat, labeler, SRX2row, pos=['untreated_RA'], neg=['healthy','psoriatic', 'treated_RA'])"
   ]
  },
  {
   "cell_type": "code",
   "execution_count": 37,
   "metadata": {
    "collapsed": false,
    "deletable": true,
    "editable": true
   },
   "outputs": [],
   "source": [
    "__author__ = \"Ehsaneddin Asgari\"\n",
    "__license__ = \"GPL\"\n",
    "__version__ = \"1.0.0\"\n",
    "__maintainer__ = \"Ehsaneddin Asgari\"\n",
    "__email__ = \"asgari@berkeley.edu or ehsaneddin.asgari@helmholtz-hzi.de\"\n",
    "__project__ = \"LLP - Life Language Processing\"\n",
    "__website__ = \"https://llp.berkeley.edu/\"\n",
    "\n",
    "import sys\n",
    "sys.path.append('../')\n",
    "from utility.file_utility import FileUtility\n",
    "from utility.list_set_util import get_max_of_dict\n",
    "import numpy as np\n",
    "from chi2analysis.chi2analysis import Chi2Analysis\n",
    "\n",
    "\n",
    "class Seq2Tax(object):\n",
    "\n",
    "    def __init__(self):\n",
    "        self.seq2tax=FileUtility.load_obj('/mounts/data/proj/asgari/dissertation/git_repos/16S_datasets/GG/to_be_checked/seq2tax.pickle')\n",
    "\n",
    "\n",
    "    def extract_markers(self, path, X, Y, features):\n",
    "        '''\n",
    "        :param path:\n",
    "        :param X:\n",
    "        :param Y:\n",
    "        :param features:\n",
    "        :return:\n",
    "        '''\n",
    "        CA=Chi2Analysis(X, Y, features)\n",
    "        res_bin=CA.extract_features_fdr(path+'_chi2_binary.txt',1000,direction=True,binarization=True)\n",
    "        res_med=CA.extract_features_fdr(path+'_chi2_median.txt',1000,direction=True,binarization='median')\n",
    "        pos_bin,neg_bin=self.extract_top_but_n(res_bin,1000)\n",
    "        pos_med,neg_med=self.extract_top_but_n(res_med,1000)\n",
    "        Seq2Tax.write_in_fastafile(path+'_chi2_binary.fasta',res_bin)\n",
    "        Seq2Tax.write_in_fastafile(path+'_chi2_relative.fasta',res_med)\n",
    "        Seq2Tax.write_in_file(path+'_chi2_binary_taxa.txt',pos_bin,neg_bin)\n",
    "        Seq2Tax.write_in_file(path+'_chi2_median_taxa.txt',pos_med,neg_med)\n",
    "\n",
    "    @staticmethod\n",
    "    def write_in_fastafile(filename,res, min_length=50):\n",
    "        corpus=[]\n",
    "        labels=[]\n",
    "        for seq, score, pval, _, _ in res:\n",
    "            if len(seq)>min_length:\n",
    "                corpus.append(seq)\n",
    "                labels.append(' '.join(['+' if score>0 else '-','p-val:'+str(pval)]))\n",
    "        FileUtility.create_fasta_file(filename,corpus,labels)\n",
    "        \n",
    "    @staticmethod\n",
    "    def write_in_file(filename,pos,neg):\n",
    "        lines=[['direction','marker','p-value','genus']]\n",
    "        for marker, pval,genus in pos:\n",
    "            lines.append(['+',marker, str(pval),genus])\n",
    "        for marker, pval,genus in neg:\n",
    "            lines.append(['-',marker, str(pval),genus])\n",
    "        FileUtility.save_list(filename, ['\\t'.join(line) for line in lines])\n",
    "\n",
    "    def micro_seq_to_tax(self, seq):\n",
    "        tax_dict=self.seq2tax[seq]\n",
    "        result_dict=dict()\n",
    "        for level,level_details in tax_dict.items():\n",
    "                    pairs=[(pairs.split('###')[0],float(pairs.split('###')[1]))for pairs in level_details.split()]\n",
    "                    for pair in pairs:\n",
    "                        (tax, prob)=pair\n",
    "                        if prob>0.8:\n",
    "                            if level not in result_dict:\n",
    "                                result_dict[level]=dict()\n",
    "                            if tax not in result_dict[level]:\n",
    "                                result_dict[level][tax]=0\n",
    "                            result_dict[level][tax]+=prob\n",
    "        if 'species' in result_dict:\n",
    "            return result_dict['species']\n",
    "        elif 'genus' in result_dict:\n",
    "            return result_dict['genus']\n",
    "        elif 'family' in result_dict:\n",
    "            return result_dict['family']\n",
    "        elif 'order' in result_dict:\n",
    "            return result_dict['order']\n",
    "        elif 'class' in result_dict:\n",
    "            return result_dict['class']\n",
    "        elif 'phylum' in result_dict:\n",
    "            return result_dict['phylum']\n",
    "        else:\n",
    "            return -1\n",
    "\n",
    "    def extract_top_but_n(self, chi2_res, n, threshold=3.8):\n",
    "        # 5\n",
    "        pos=[]\n",
    "        neg=[]\n",
    "        idx=0\n",
    "        while len(pos)<n and idx < len(chi2_res):\n",
    "            if chi2_res[idx][1]>threshold  and chi2_res[idx][0] in self.seq2tax:\n",
    "                if 'genus' in self.seq2tax[chi2_res[idx][0]]:\n",
    "                    dict_tax={pairs.split('###')[0]:float(pairs.split('###')[1]) for pairs in self.seq2tax[chi2_res[idx][0]]['genus'].split()}\n",
    "                    if np.max(list(dict_tax.values())) > 0.95:\n",
    "                        pos.append((chi2_res[idx][0], chi2_res[idx][2], get_max_of_dict(dict_tax)))\n",
    "                if 'family' in self.seq2tax[chi2_res[idx][0]]:\n",
    "                    dict_tax={pairs.split('###')[0]:float(pairs.split('###')[1]) for pairs in self.seq2tax[chi2_res[idx][0]]['family'].split()}\n",
    "                    if np.max(list(dict_tax.values())) > 0.95:\n",
    "                        pos.append((chi2_res[idx][0], chi2_res[idx][2], get_max_of_dict(dict_tax)))\n",
    "            idx+=1\n",
    "        idx=0\n",
    "        while len(neg)<n and idx < len(chi2_res):\n",
    "            if chi2_res[idx][1]<-threshold and idx< len(chi2_res) and chi2_res[idx][0] in self.seq2tax:\n",
    "                if 'genus' in self.seq2tax[chi2_res[idx][0]]:\n",
    "                    dict_tax={pairs.split('###')[0]:float(pairs.split('###')[1]) for pairs in self.seq2tax[chi2_res[idx][0]]['genus'].split()}\n",
    "                    if np.max(list(dict_tax.values())) > 0.95:\n",
    "                        neg.append((chi2_res[idx][0], chi2_res[idx][2], get_max_of_dict(dict_tax)))\n",
    "                elif 'family' in self.seq2tax[chi2_res[idx][0]]:\n",
    "                    dict_tax={pairs.split('###')[0]:float(pairs.split('###')[1]) for pairs in self.seq2tax[chi2_res[idx][0]]['family'].split()}\n",
    "                    if np.max(list(dict_tax.values())) > 0.95:\n",
    "                        neg.append((chi2_res[idx][0], chi2_res[idx][2], get_max_of_dict(dict_tax)))\n",
    "            idx+=1\n",
    "        return pos, neg\n",
    "\n",
    "\n"
   ]
  },
  {
   "cell_type": "code",
   "execution_count": 38,
   "metadata": {
    "collapsed": false,
    "deletable": true,
    "editable": true
   },
   "outputs": [],
   "source": [
    "SeqTaxa=Seq2Tax()"
   ]
  },
  {
   "cell_type": "code",
   "execution_count": 39,
   "metadata": {
    "collapsed": false,
    "deletable": true,
    "editable": true
   },
   "outputs": [
    {
     "name": "stderr",
     "output_type": "stream",
     "text": [
      "/mounts/Users/student/asgari/.local/lib/python3.4/site-packages/sklearn/feature_selection/univariate_selection.py:619: RuntimeWarning: invalid value encountered in less_equal\n",
      "  np.arange(1, n_features + 1)]\n",
      "/mounts/Users/student/asgari/.local/lib/python3.4/site-packages/sklearn/feature_selection/univariate_selection.py:622: RuntimeWarning: invalid value encountered in less_equal\n",
      "  return self.pvalues_ <= selected.max()\n"
     ]
    }
   ],
   "source": [
    "SeqTaxa.extract_markers('/mounts/data/proj/asgari/dissertation/git_repos/16Seq2Seg/final_results/RA/markers/self_cpe_d_vs_all_',X,labels,features)"
   ]
  },
  {
   "cell_type": "code",
   "execution_count": null,
   "metadata": {
    "collapsed": true,
    "deletable": true,
    "editable": true
   },
   "outputs": [],
   "source": []
  }
 ],
 "metadata": {
  "kernelspec": {
   "display_name": "Python 3",
   "language": "python",
   "name": "python3"
  },
  "language_info": {
   "codemirror_mode": {
    "name": "ipython",
    "version": 3
   },
   "file_extension": ".py",
   "mimetype": "text/x-python",
   "name": "python",
   "nbconvert_exporter": "python",
   "pygments_lexer": "ipython3",
   "version": "3.4.6"
  }
 },
 "nbformat": 4,
 "nbformat_minor": 2
}
