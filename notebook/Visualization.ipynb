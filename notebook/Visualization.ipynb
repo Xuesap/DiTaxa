{
 "cells": [
  {
   "cell_type": "code",
   "execution_count": 1,
   "metadata": {},
   "outputs": [
    {
     "name": "stdout",
     "output_type": "stream",
     "text": [
      "Populating the interactive namespace from numpy and matplotlib\n"
     ]
    }
   ],
   "source": [
    "import sys\n",
    "sys.path.append('../')\n",
    "from sklearn.decomposition import PCA\n",
    "from sklearn.manifold import TSNE\n",
    "from utility.file_utility import FileUtility\n",
    "#from utility.visualization_utility import plot_scatter\n",
    "import numpy as np\n",
    "import matplotlib\n",
    "import matplotlib.pyplot as plt\n",
    "%pylab inline\n",
    "%matplotlib inline "
   ]
  },
  {
   "cell_type": "code",
   "execution_count": 20,
   "metadata": {
    "collapsed": true
   },
   "outputs": [],
   "source": [
    "def plot_scatter(ax, X, Y, x_label, y_label, title,legend_hide=True, legend_loc=4, label_dict=False, legend_size=7, legend_col=1, color_schemes_idx=1):\n",
    "    \n",
    "    global color_schemes\n",
    "    \n",
    "    target=list(set(Y))\n",
    "    target.sort()\n",
    "    color_idx=[target.index(x) for x in Y]\n",
    "    color_list=color_schemes[color_schemes_idx]\n",
    "  \n",
    "    for current_color in range(len(target)):\n",
    "        color=color_list\n",
    "        current_idxs=[idx for idx,v in enumerate(color_idx) if v==current_color]\n",
    "        if label_dict:\n",
    "            ax.scatter(X[current_idxs, 0], X[current_idxs, 1], c=color[current_color], label=label_dict[target[current_color]], cmap='viridis', alpha=0.4, edgecolors=None)\n",
    "        else:\n",
    "            ax.scatter(X[current_idxs, 0], X[current_idxs, 1], c=color[current_color], label=target[current_color], cmap='viridis', alpha=0.4, edgecolors=None)\n",
    "    plt.xlabel(x_label)\n",
    "    plt.ylabel(y_label)\n",
    "    plt.xticks([])\n",
    "    plt.yticks([])\n",
    "    ax.set_title(title)\n",
    "    #if not legend_hide:\n",
    "    #    ax.legend(loc=legend_loc, bbox_to_anchor=(0.5, -0.1), prop={'size': legend_size},ncol=legend_col, edgecolor='black', facecolor='white', frameon=True)\n",
    "    #if legend_hide=='show':\n",
    "    #if title[0:3]=='(i)':\n",
    "    #    ax.legend(loc=3,  prop={'size': legend_size},ncol=legend_col, edgecolor='black', facecolor='white', frameon=True)\n",
    "    \n",
    "    matplotlib.rcParams['mathtext.fontset'] = 'stix'\n",
    "    matplotlib.rcParams['font.family'] = 'STIXGeneral'\n",
    "    matplotlib.rcParams['mathtext.fontset'] = 'custom'\n",
    "    matplotlib.rcParams['mathtext.rm'] = 'Bitstream Vera Sans'\n",
    "    matplotlib.rcParams['mathtext.it'] = 'Bitstream Vera Sans:italic'\n",
    "    matplotlib.rcParams['mathtext.bf'] = 'Bitstream Vera Sans:bold'\n",
    "    matplotlib.rcParams[\"axes.edgecolor\"] = \"black\"\n",
    "    matplotlib.rcParams[\"axes.linewidth\"] = 0.6\n",
    "    matplotlib.rcParams[\"axes.titlesize\"] = 20\n",
    "    matplotlib.rcParams[\"axes.labelsize\"] = 20\n",
    "    plt.rc('text', usetex=True)\n",
    "    rect = ax.patch\n",
    "    rect.set_facecolor('white')"
   ]
  },
  {
   "cell_type": "code",
   "execution_count": 21,
   "metadata": {
    "collapsed": true
   },
   "outputs": [],
   "source": [
    "def get_tsne(X, random_seed=0):    \n",
    "    X_tsne = TSNE(n_components=2, perplexity=40, verbose=2, learning_rate=10,random_state=random_seed).fit_transform(X.toarray())\n",
    "    return X_tsne\n",
    "\n",
    "def plot_res(file_address, X_addr,features_addr, selected_addr, label_addr):\n",
    "    global color_schemes\n",
    "    color_schemes=[['green','blue','red','gold', 'cyan'], ['#ff0505', '#f2a041', '#cdff05', '#04d9cb', '#45a8ff', '#8503a6', '#590202', '#734d02', '#4ab304', '#025359', '#0454cc', '#ff45da', '#993829', '#ffda45', '#1c661c', '#05cdff', '#1c2f66', '#731f57', '#b24a04', '#778003', '#0e3322', '#024566', '#0404d9', '#e5057d', '#66391c', '#31330e', '#3ee697', '#2d7da6', '#20024d', '#33011c']+list(({'aliceblue':            '#F0F8FF','antiquewhite':         '#FAEBD7','aqua':                 '#00FFFF','aquamarine':           '#7FFFD4','azure':                '#F0FFFF','beige':                '#F5F5DC','bisque':               '#FFE4C4','black':                '#000000','blanchedalmond':       '#FFEBCD','blue':                 '#0000FF','blueviolet':           '#8A2BE2','brown':                '#A52A2A','burlywood':            '#DEB887','cadetblue':            '#5F9EA0','chartreuse':           '#7FFF00','chocolate':            '#D2691E','coral':                '#FF7F50','cornflowerblue':       '#6495ED','cornsilk':             '#FFF8DC','crimson':              '#DC143C','cyan':                 '#00FFFF','darkblue':             '#00008B','darkcyan':             '#008B8B','darkgoldenrod':        '#B8860B','darkgray':             '#A9A9A9','darkgreen':            '#006400','darkkhaki':            '#BDB76B','darkmagenta':          '#8B008B','darkolivegreen':       '#556B2F','darkorange':           '#FF8C00','darkorchid':           '#9932CC','darkred':              '#8B0000','darksalmon':           '#E9967A','darkseagreen':         '#8FBC8F','darkslateblue':        '#483D8B','darkslategray':        '#2F4F4F','darkturquoise':        '#00CED1','darkviolet':           '#9400D3','deeppink':             '#FF1493','deepskyblue':          '#00BFFF','dimgray':              '#696969','dodgerblue':           '#1E90FF','firebrick':            '#B22222','floralwhite':          '#FFFAF0','forestgreen':          '#228B22','fuchsia':              '#FF00FF','gainsboro':            '#DCDCDC','ghostwhite':           '#F8F8FF','gold':                 '#FFD700','goldenrod':            '#DAA520','gray':                 '#808080','green':                '#008000','greenyellow':          '#ADFF2F','honeydew':             '#F0FFF0','hotpink':              '#FF69B4','indianred':            '#CD5C5C','indigo':               '#4B0082','ivory':                '#FFFFF0','khaki':                '#F0E68C','lavender':             '#E6E6FA','lavenderblush':        '#FFF0F5','lawngreen':            '#7CFC00','lemonchiffon':         '#FFFACD','lightblue':            '#ADD8E6','lightcoral':           '#F08080','lightcyan':            '#E0FFFF','lightgoldenrodyellow': '#FAFAD2','lightgreen':           '#90EE90','lightgray':            '#D3D3D3','lightpink':            '#FFB6C1','lightsalmon':          '#FFA07A','lightseagreen':        '#20B2AA','lightskyblue':         '#87CEFA','lightslategray':       '#778899','lightsteelblue':       '#B0C4DE','lightyellow':          '#FFFFE0','lime':                 '#00FF00','limegreen':            '#32CD32','linen':                '#FAF0E6','magenta':              '#FF00FF','maroon':               '#800000','mediumaquamarine':     '#66CDAA','mediumblue':           '#0000CD','mediumorchid':         '#BA55D3','mediumpurple':         '#9370DB','mediumseagreen':       '#3CB371','mediumslateblue':      '#7B68EE','mediumspringgreen':    '#00FA9A','mediumturquoise':      '#48D1CC','mediumvioletred':      '#C71585','midnightblue':         '#191970','mintcream':            '#F5FFFA','mistyrose':            '#FFE4E1','moccasin':             '#FFE4B5','navajowhite':          '#FFDEAD','navy':                 '#000080','oldlace':              '#FDF5E6','olive':                '#808000','olivedrab':            '#6B8E23','orange':               '#FFA500','orangered':            '#FF4500','orchid':               '#DA70D6','palegoldenrod':        '#EEE8AA','palegreen':            '#98FB98','paleturquoise':        '#AFEEEE','palevioletred':        '#DB7093','papayawhip':           '#FFEFD5','peachpuff':            '#FFDAB9','peru':                 '#CD853F','pink':                 '#FFC0CB','plum':                 '#DDA0DD','powderblue':           '#B0E0E6','purple':               '#800080','red':                  '#FF0000','rosybrown':            '#BC8F8F','royalblue':            '#4169E1','saddlebrown':          '#8B4513','salmon':               '#FA8072','sandybrown':           '#FAA460','seagreen':             '#2E8B57','seashell':             '#FFF5EE','sienna':               '#A0522D','silver':               '#C0C0C0','skyblue':              '#87CEEB','slateblue':            '#6A5ACD','slategray':            '#708090','snow':                 '#FFFAFA','springgreen':          '#00FF7F','steelblue':            '#4682B4','tan':                  '#D2B48C','teal':                 '#008080','thistle':              '#D8BFD8','tomato':               '#FF6347','turquoise':            '#40E0D0','violet':               '#EE82EE','wheat':                '#F5DEB3','white':                '#FFFFFF','whitesmoke':           '#F5F5F5','yellow':               '#FFFF00','yellowgreen':          '#9ACD32'}).keys()),['#ff0505', '#f2a041', '#cdff05', '#04d9cb', '#45a8ff', '#8503a6', '#590202', '#734d02', '#4ab304', '#025359', '#0454cc', '#ff45da', '#993829', '#ffda45', '#1c661c', '#05cdff', '#1c2f66', '#731f57', '#b24a04', '#778003', '#0e3322', '#024566', '#0404d9', '#e5057d', '#66391c', '#31330e', '#3ee697', '#2d7da6', '#20024d', '#33011c']]\n",
    "    X=FileUtility.load_sparse_csr(X_addr)\n",
    "    features=FileUtility.load_list(features_addr)\n",
    "    features_selected=FileUtility.load_list(selected_addr)\n",
    "    idx=[features.index(x) for  x in features_selected if x in features]\n",
    "    X_selected=X[:,idx]\n",
    "    Y=FileUtility.load_list(label_addr)\n",
    "    X_tsne=get_tsne(X)\n",
    "    X_red_tsne=get_tsne(X_selected)\n",
    "    myplot=figure(figsize=(16, 8))\n",
    "    ax=subplot(121)\n",
    "    plot_scatter(ax, X_tsne, Y, 't-SNE 1', 't-SNE 0', '(i) t-SNE over NPE representations',legend_hide=False,  legend_loc=9,  legend_size=10,label_dict=None, color_schemes_idx=0)\n",
    "    ax=subplot(122)\n",
    "    plot_scatter(ax, X_red_tsne, Y, 't-SNE 1', 't-SNE 0', '(ii) t-SNE over selected markers',legend_hide=False,  legend_loc=9,  legend_size=10,label_dict=None, color_schemes_idx=0)\n",
    "\n",
    "    "
   ]
  },
  {
   "cell_type": "code",
   "execution_count": 24,
   "metadata": {
    "collapsed": true
   },
   "outputs": [],
   "source": []
  },
  {
   "cell_type": "code",
   "execution_count": 25,
   "metadata": {},
   "outputs": [
    {
     "name": "stdout",
     "output_type": "stream",
     "text": [
      "[t-SNE] Computing 19 nearest neighbors...\n",
      "[t-SNE] Indexed 20 samples in 0.001s...\n",
      "[t-SNE] Computed neighbors for 20 samples in 0.010s...\n",
      "[t-SNE] Computed conditional probabilities for sample 20 / 20\n",
      "[t-SNE] Mean sigma: 1125899906842624.000000\n",
      "[t-SNE] Computed conditional probabilities in 0.005s\n",
      "[t-SNE] Iteration 50: error = 35.3387146, gradient norm = 2.3856561 (50 iterations in 0.026s)\n",
      "[t-SNE] Iteration 100: error = 34.8167267, gradient norm = 2.5009513 (50 iterations in 0.022s)\n",
      "[t-SNE] Iteration 150: error = 37.8770599, gradient norm = 1.8479605 (50 iterations in 0.020s)\n",
      "[t-SNE] Iteration 200: error = 34.6728096, gradient norm = 2.2861168 (50 iterations in 0.018s)\n",
      "[t-SNE] Iteration 250: error = 37.6816368, gradient norm = 2.1313455 (50 iterations in 0.024s)\n",
      "[t-SNE] KL divergence after 250 iterations with early exaggeration: 37.681637\n",
      "[t-SNE] Iteration 300: error = 0.0001059, gradient norm = 0.0008119 (50 iterations in 0.023s)\n",
      "[t-SNE] Iteration 350: error = 0.0000056, gradient norm = 0.0000057 (50 iterations in 0.021s)\n",
      "[t-SNE] Iteration 400: error = 0.0000013, gradient norm = 0.0000005 (50 iterations in 0.020s)\n",
      "[t-SNE] Iteration 450: error = 0.0000003, gradient norm = 0.0000001 (50 iterations in 0.019s)\n",
      "[t-SNE] Iteration 500: error = 0.0000001, gradient norm = 0.0000001 (50 iterations in 0.016s)\n",
      "[t-SNE] Iteration 500: gradient norm 0.000000. Finished.\n",
      "[t-SNE] Error after 500 iterations: 0.000000\n",
      "[t-SNE] Computing 19 nearest neighbors...\n",
      "[t-SNE] Indexed 20 samples in 0.000s...\n",
      "[t-SNE] Computed neighbors for 20 samples in 0.001s...\n",
      "[t-SNE] Computed conditional probabilities for sample 20 / 20\n",
      "[t-SNE] Mean sigma: 71.107385\n",
      "[t-SNE] Computed conditional probabilities in 0.004s\n",
      "[t-SNE] Iteration 50: error = 43.5808983, gradient norm = 1.5821636 (50 iterations in 0.015s)\n",
      "[t-SNE] Iteration 100: error = 41.9055405, gradient norm = 1.9804248 (50 iterations in 0.024s)\n",
      "[t-SNE] Iteration 150: error = 39.8784637, gradient norm = 2.1802194 (50 iterations in 0.021s)\n",
      "[t-SNE] Iteration 200: error = 37.6837082, gradient norm = 2.1462185 (50 iterations in 0.020s)\n",
      "[t-SNE] Iteration 250: error = 44.5348625, gradient norm = 1.7887830 (50 iterations in 0.018s)\n",
      "[t-SNE] KL divergence after 250 iterations with early exaggeration: 44.534863\n",
      "[t-SNE] Iteration 300: error = 0.0811907, gradient norm = 0.0118037 (50 iterations in 0.017s)\n",
      "[t-SNE] Iteration 350: error = 0.0805002, gradient norm = 0.0008654 (50 iterations in 0.016s)\n",
      "[t-SNE] Iteration 400: error = 0.0805044, gradient norm = 0.0010649 (50 iterations in 0.016s)\n",
      "[t-SNE] Iteration 450: error = 0.0804975, gradient norm = 0.0014532 (50 iterations in 0.015s)\n",
      "[t-SNE] Iteration 500: error = 0.0805859, gradient norm = 0.0009200 (50 iterations in 0.016s)\n",
      "[t-SNE] Iteration 550: error = 0.0805829, gradient norm = 0.0000155 (50 iterations in 0.024s)\n",
      "[t-SNE] Iteration 600: error = 0.0805834, gradient norm = 0.0001226 (50 iterations in 0.021s)\n",
      "[t-SNE] Iteration 650: error = 0.0805946, gradient norm = 0.0004883 (50 iterations in 0.019s)\n",
      "[t-SNE] Iteration 700: error = 0.0805838, gradient norm = 0.0001717 (50 iterations in 0.018s)\n",
      "[t-SNE] Iteration 750: error = 0.0805909, gradient norm = 0.0004678 (50 iterations in 0.016s)\n",
      "[t-SNE] Iteration 800: error = 0.0805873, gradient norm = 0.0000819 (50 iterations in 0.016s)\n",
      "[t-SNE] Iteration 800: did not make any progress during the last 300 episodes. Finished.\n",
      "[t-SNE] Error after 800 iterations: 0.080587\n"
     ]
    },
    {
     "data": {
      "image/png": "[encoded data removed]",
      "text/plain": [
       "<matplotlib.figure.Figure at 0x7f9a70aacf60>"
      ]
     },
     "metadata": {},
     "output_type": "display_data"
    }
   ],
   "source": [
    "plot_res('../../16S_datasets/results_dental/intermediate_files/npe_representation/periodontal_uniquepiece_-1.npz','../../16S_datasets/results_dental/intermediate_files/npe_representation/periodontal_uniquepiece_-1_features', '../../16S_datasets/results_dental/intermediate_files/npe_marker_files/DvsH_finalmarker_list.txt', '../../16S_datasets/results_dental/intermediate_files/npe_representation/periodontal_uniquepiece_-1_DvsH_Y.txt')\n",
    "\n"
   ]
  },
  {
   "cell_type": "code",
   "execution_count": 12,
   "metadata": {
    "collapsed": true
   },
   "outputs": [],
   "source": [
    "features=FileUtility.load_list()\n",
    "\n",
    "features_selected=FileUtility.load_list('../../16S_datasets/results_dental/intermediate_files/npe_representation/periodontal_uniquepiece_-1_features')\n",
    "\n",
    "idx=[features.index(x) for  x in features_selected if x in features]\n",
    "\n",
    "X_selected=X[:,idx]"
   ]
  },
  {
   "cell_type": "code",
   "execution_count": 11,
   "metadata": {},
   "outputs": [
    {
     "name": "stdout",
     "output_type": "stream",
     "text": [
      "[t-SNE] Computing 19 nearest neighbors...\n",
      "[t-SNE] Indexed 20 samples in 0.001s...\n",
      "[t-SNE] Computed neighbors for 20 samples in 0.007s...\n",
      "[t-SNE] Computed conditional probabilities for sample 20 / 20\n",
      "[t-SNE] Mean sigma: 1125899906842624.000000\n",
      "[t-SNE] Computed conditional probabilities in 0.003s\n",
      "[t-SNE] Iteration 50: error = 35.3387146, gradient norm = 2.3856561 (50 iterations in 0.016s)\n",
      "[t-SNE] Iteration 100: error = 34.8167267, gradient norm = 2.5009513 (50 iterations in 0.015s)\n",
      "[t-SNE] Iteration 150: error = 37.8770599, gradient norm = 1.8479605 (50 iterations in 0.014s)\n",
      "[t-SNE] Iteration 200: error = 34.6728096, gradient norm = 2.2861168 (50 iterations in 0.014s)\n",
      "[t-SNE] Iteration 250: error = 37.6816368, gradient norm = 2.1313455 (50 iterations in 0.013s)\n",
      "[t-SNE] KL divergence after 250 iterations with early exaggeration: 37.681637\n",
      "[t-SNE] Iteration 300: error = 0.0001059, gradient norm = 0.0008119 (50 iterations in 0.014s)\n",
      "[t-SNE] Iteration 350: error = 0.0000056, gradient norm = 0.0000057 (50 iterations in 0.013s)\n",
      "[t-SNE] Iteration 400: error = 0.0000013, gradient norm = 0.0000005 (50 iterations in 0.013s)\n",
      "[t-SNE] Iteration 450: error = 0.0000003, gradient norm = 0.0000001 (50 iterations in 0.012s)\n",
      "[t-SNE] Iteration 500: error = 0.0000001, gradient norm = 0.0000001 (50 iterations in 0.012s)\n",
      "[t-SNE] Iteration 500: gradient norm 0.000000. Finished.\n",
      "[t-SNE] Error after 500 iterations: 0.000000\n"
     ]
    },
    {
     "data": {
      "image/png": "[encoded data removed]",
      "text/plain": [
       "<matplotlib.figure.Figure at 0x7f9ad7ebb0b8>"
      ]
     },
     "metadata": {},
     "output_type": "display_data"
    }
   ],
   "source": [
    "global color_schemes\n",
    "color_schemes=[['green','blue','red','gold', 'cyan'], ['#ff0505', '#f2a041', '#cdff05', '#04d9cb', '#45a8ff', '#8503a6', '#590202', '#734d02', '#4ab304', '#025359', '#0454cc', '#ff45da', '#993829', '#ffda45', '#1c661c', '#05cdff', '#1c2f66', '#731f57', '#b24a04', '#778003', '#0e3322', '#024566', '#0404d9', '#e5057d', '#66391c', '#31330e', '#3ee697', '#2d7da6', '#20024d', '#33011c']+list(({'aliceblue':            '#F0F8FF','antiquewhite':         '#FAEBD7','aqua':                 '#00FFFF','aquamarine':           '#7FFFD4','azure':                '#F0FFFF','beige':                '#F5F5DC','bisque':               '#FFE4C4','black':                '#000000','blanchedalmond':       '#FFEBCD','blue':                 '#0000FF','blueviolet':           '#8A2BE2','brown':                '#A52A2A','burlywood':            '#DEB887','cadetblue':            '#5F9EA0','chartreuse':           '#7FFF00','chocolate':            '#D2691E','coral':                '#FF7F50','cornflowerblue':       '#6495ED','cornsilk':             '#FFF8DC','crimson':              '#DC143C','cyan':                 '#00FFFF','darkblue':             '#00008B','darkcyan':             '#008B8B','darkgoldenrod':        '#B8860B','darkgray':             '#A9A9A9','darkgreen':            '#006400','darkkhaki':            '#BDB76B','darkmagenta':          '#8B008B','darkolivegreen':       '#556B2F','darkorange':           '#FF8C00','darkorchid':           '#9932CC','darkred':              '#8B0000','darksalmon':           '#E9967A','darkseagreen':         '#8FBC8F','darkslateblue':        '#483D8B','darkslategray':        '#2F4F4F','darkturquoise':        '#00CED1','darkviolet':           '#9400D3','deeppink':             '#FF1493','deepskyblue':          '#00BFFF','dimgray':              '#696969','dodgerblue':           '#1E90FF','firebrick':            '#B22222','floralwhite':          '#FFFAF0','forestgreen':          '#228B22','fuchsia':              '#FF00FF','gainsboro':            '#DCDCDC','ghostwhite':           '#F8F8FF','gold':                 '#FFD700','goldenrod':            '#DAA520','gray':                 '#808080','green':                '#008000','greenyellow':          '#ADFF2F','honeydew':             '#F0FFF0','hotpink':              '#FF69B4','indianred':            '#CD5C5C','indigo':               '#4B0082','ivory':                '#FFFFF0','khaki':                '#F0E68C','lavender':             '#E6E6FA','lavenderblush':        '#FFF0F5','lawngreen':            '#7CFC00','lemonchiffon':         '#FFFACD','lightblue':            '#ADD8E6','lightcoral':           '#F08080','lightcyan':            '#E0FFFF','lightgoldenrodyellow': '#FAFAD2','lightgreen':           '#90EE90','lightgray':            '#D3D3D3','lightpink':            '#FFB6C1','lightsalmon':          '#FFA07A','lightseagreen':        '#20B2AA','lightskyblue':         '#87CEFA','lightslategray':       '#778899','lightsteelblue':       '#B0C4DE','lightyellow':          '#FFFFE0','lime':                 '#00FF00','limegreen':            '#32CD32','linen':                '#FAF0E6','magenta':              '#FF00FF','maroon':               '#800000','mediumaquamarine':     '#66CDAA','mediumblue':           '#0000CD','mediumorchid':         '#BA55D3','mediumpurple':         '#9370DB','mediumseagreen':       '#3CB371','mediumslateblue':      '#7B68EE','mediumspringgreen':    '#00FA9A','mediumturquoise':      '#48D1CC','mediumvioletred':      '#C71585','midnightblue':         '#191970','mintcream':            '#F5FFFA','mistyrose':            '#FFE4E1','moccasin':             '#FFE4B5','navajowhite':          '#FFDEAD','navy':                 '#000080','oldlace':              '#FDF5E6','olive':                '#808000','olivedrab':            '#6B8E23','orange':               '#FFA500','orangered':            '#FF4500','orchid':               '#DA70D6','palegoldenrod':        '#EEE8AA','palegreen':            '#98FB98','paleturquoise':        '#AFEEEE','palevioletred':        '#DB7093','papayawhip':           '#FFEFD5','peachpuff':            '#FFDAB9','peru':                 '#CD853F','pink':                 '#FFC0CB','plum':                 '#DDA0DD','powderblue':           '#B0E0E6','purple':               '#800080','red':                  '#FF0000','rosybrown':            '#BC8F8F','royalblue':            '#4169E1','saddlebrown':          '#8B4513','salmon':               '#FA8072','sandybrown':           '#FAA460','seagreen':             '#2E8B57','seashell':             '#FFF5EE','sienna':               '#A0522D','silver':               '#C0C0C0','skyblue':              '#87CEEB','slateblue':            '#6A5ACD','slategray':            '#708090','snow':                 '#FFFAFA','springgreen':          '#00FF7F','steelblue':            '#4682B4','tan':                  '#D2B48C','teal':                 '#008080','thistle':              '#D8BFD8','tomato':               '#FF6347','turquoise':            '#40E0D0','violet':               '#EE82EE','wheat':                '#F5DEB3','white':                '#FFFFFF','whitesmoke':           '#F5F5F5','yellow':               '#FFFF00','yellowgreen':          '#9ACD32'}).keys()),['#ff0505', '#f2a041', '#cdff05', '#04d9cb', '#45a8ff', '#8503a6', '#590202', '#734d02', '#4ab304', '#025359', '#0454cc', '#ff45da', '#993829', '#ffda45', '#1c661c', '#05cdff', '#1c2f66', '#731f57', '#b24a04', '#778003', '#0e3322', '#024566', '#0404d9', '#e5057d', '#66391c', '#31330e', '#3ee697', '#2d7da6', '#20024d', '#33011c']]\n",
    "X_new=get_tsne(X)\n",
    "myplot=figure(figsize=(6, 8))\n",
    "ax=subplot(121)\n",
    "plot_scatter(ax, X_new, Y, 't-SNE 1', 't-SNE 0', '(ii) t-SNE over 6-mer representations',legend_hide=False,  legend_loc=9,  legend_size=10,label_dict=None, color_schemes_idx=0)\n"
   ]
  },
  {
   "cell_type": "code",
   "execution_count": null,
   "metadata": {
    "collapsed": true
   },
   "outputs": [],
   "source": []
  }
 ],
 "metadata": {
  "kernelspec": {
   "display_name": "Python 3",
   "language": "python",
   "name": "python3"
  },
  "language_info": {
   "codemirror_mode": {
    "name": "ipython",
    "version": 3
   },
   "file_extension": ".py",
   "mimetype": "text/x-python",
   "name": "python",
   "nbconvert_exporter": "python",
   "pygments_lexer": "ipython3",
   "version": "3.5.2"
  }
 },
 "nbformat": 4,
 "nbformat_minor": 2
}
