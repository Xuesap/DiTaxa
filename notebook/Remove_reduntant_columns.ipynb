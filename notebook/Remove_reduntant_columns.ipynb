{
 "cells": [
  {
   "cell_type": "code",
   "execution_count": 1,
   "metadata": {
    "collapsed": true,
    "deletable": true,
    "editable": true
   },
   "outputs": [],
   "source": [
    "import sys\n",
    "sys.path.append('../')\n",
    "from utility.file_utility import FileUtility\n",
    "from scipy.sparse import csr_matrix"
   ]
  },
  {
   "cell_type": "code",
   "execution_count": 2,
   "metadata": {
    "collapsed": true,
    "deletable": true,
    "editable": true
   },
   "outputs": [],
   "source": [
    "import os\n",
    "import tqdm\n",
    "\n",
    "path = '/mounts/data/proj/asgari/dissertation/datasets/deepbio/taxonomy/ncbi-blast-2.5.0+/bin/'\n",
    "os.environ['PATH'] += ':'+path\n",
    "from Bio.Blast.Applications import NcbiblastnCommandline\n",
    "from Bio.Blast import NCBIXML\n",
    "\n",
    "def is_not_too_ambiguous(results):\n",
    "    levels_id={'Superkingdom':1,'phylum':1,'class':2,'order':3,'family':4,'genus':5,'species':6}\n",
    "    \n",
    "    species=set([x[0][levels_id['species']] for x in results])\n",
    "    genuses=set([x[0][levels_id['genus']] for x in results])\n",
    "    families=set([x[0][levels_id['family']] for x in results])\n",
    "    orders=set([x[0][levels_id['order']] for x in results])\n",
    "    classes=set([x[0][levels_id['class']] for x in results])\n",
    "    phylums=set([x[0][levels_id['phylum']] for x in results])\n",
    "    Superkingdoms=set([x[0][levels_id['Superkingdom']] for x in results])\n",
    "    \n",
    "    if len(species)==1:\n",
    "        return ';'.join(results[0][0])\n",
    "    elif len(genuses)==1:\n",
    "        return ';'.join(results[0][0][0:6])\n",
    "    elif len(families)==1:\n",
    "        return ';'.join(results[0][0][0:5])\n",
    "    if len(orders)==1:\n",
    "        return ';'.join(results[0][0][0:4])\n",
    "    elif len(classes)==1:\n",
    "        return ';'.join(results[0][0][0:3]) \n",
    "    elif len(phylums)==1:\n",
    "        return ';'.join(results[0][0][0:2]) \n",
    "    elif len(Superkingdoms)==1:\n",
    "        return ';'.join(results[0][0][0:1]) \n",
    "    else:\n",
    "        return False"
   ]
  },
  {
   "cell_type": "code",
   "execution_count": 138,
   "metadata": {
    "collapsed": false,
    "deletable": true,
    "editable": true
   },
   "outputs": [
    {
     "name": "stderr",
     "output_type": "stream",
     "text": [
      "100%|██████████| 1335/1335 [01:16<00:00, 17.47it/s]\n"
     ]
    }
   ],
   "source": []
  },
  {
   "cell_type": "code",
   "execution_count": 139,
   "metadata": {
    "collapsed": false,
    "deletable": true,
    "editable": true
   },
   "outputs": [
    {
     "name": "stdout",
     "output_type": "stream",
     "text": [
      "Populating the interactive namespace from numpy and matplotlib\n"
     ]
    },
    {
     "name": "stderr",
     "output_type": "stream",
     "text": [
      "/mounts/Users/student/asgari/.local/lib/python3.4/site-packages/IPython/core/magics/pylab.py:161: UserWarning: pylab import has clobbered these variables: ['flag', 'argsort', 'f']\n",
      "`%matplotlib` prevents importing * from pylab and numpy\n",
      "  \"\\n`%matplotlib` prevents importing * from pylab and numpy\"\n"
     ]
    }
   ],
   "source": [
    "import operator\n",
    "import numpy as np\n",
    "from utility.list_set_util import argsort\n",
    "import matplotlib\n",
    "import matplotlib.pyplot as plt\n",
    "from utility.visualization_utility import create_mat_plot\n",
    "%pylab inline\n",
    "%matplotlib inline \n",
    "\n",
    "sorted_features=sorted(final_results, key=operator.itemgetter(1), reverse=False)"
   ]
  },
  {
   "cell_type": "code",
   "execution_count": 140,
   "metadata": {
    "collapsed": false,
    "deletable": true,
    "editable": true
   },
   "outputs": [
    {
     "data": {
      "text/plain": [
       "351"
      ]
     },
     "execution_count": 140,
     "metadata": {},
     "output_type": "execute_result"
    }
   ],
   "source": [
    "len(sorted_features)"
   ]
  },
  {
   "cell_type": "code",
   "execution_count": 141,
   "metadata": {
    "collapsed": true,
    "deletable": true,
    "editable": true
   },
   "outputs": [],
   "source": [
    "rep=FileUtility.load_sparse_csr('../../16S_datasets/ra/rep/ra_selfposcpe_50000_cpe_-1.npz')\n",
    "features=FileUtility.load_list('../../16S_datasets/ra/rep/ra_selfposcpe_50000_cpe_-1_features')\n",
    "\n",
    "new_matrix=[]\n",
    "for feature, taxnomy, pvalue in sorted_features:\n",
    "    column=features.index(feature)\n",
    "    new_matrix.append(rep[:,column].toarray().T[0].tolist())\n",
    "new_matrix=np.array(new_matrix)"
   ]
  },
  {
   "cell_type": "code",
   "execution_count": 142,
   "metadata": {
    "collapsed": true,
    "deletable": true,
    "editable": true
   },
   "outputs": [],
   "source": [
    "def median_binary(OLDX):\n",
    "    median_vec=np.median(OLDX,axis=0)\n",
    "    X=np.zeros(OLDX.shape)\n",
    "    X[np.where(OLDX>np.median(OLDX,axis=0))]=1\n",
    "    return X"
   ]
  },
  {
   "cell_type": "code",
   "execution_count": 143,
   "metadata": {
    "collapsed": true,
    "deletable": true,
    "editable": true
   },
   "outputs": [],
   "source": [
    "def unique_columns2(data):\n",
    "    dt = np.dtype((np.void, data.dtype.itemsize * data.shape[0]))\n",
    "    dataf = data.T.view(dt)\n",
    "    u,uind = np.unique(dataf, return_inverse=True)\n",
    "    u = u.view(data.dtype).reshape(-1,data.shape[0]).T\n",
    "    return (u,uind)"
   ]
  },
  {
   "cell_type": "code",
   "execution_count": 144,
   "metadata": {
    "collapsed": false,
    "deletable": true,
    "editable": true
   },
   "outputs": [
    {
     "data": {
      "text/plain": [
       "2.8345579047333431"
      ]
     },
     "execution_count": 144,
     "metadata": {},
     "output_type": "execute_result"
    }
   ],
   "source": [
    "np.mean(new_matrix)"
   ]
  },
  {
   "cell_type": "code",
   "execution_count": 145,
   "metadata": {
    "collapsed": false,
    "deletable": true,
    "editable": true
   },
   "outputs": [],
   "source": [
    "a=median_binary(new_matrix)"
   ]
  },
  {
   "cell_type": "code",
   "execution_count": 215,
   "metadata": {
    "collapsed": false,
    "deletable": true,
    "editable": true
   },
   "outputs": [],
   "source": [
    "from utility.math_utility import get_sym_kl_rows"
   ]
  },
  {
   "cell_type": "code",
   "execution_count": 241,
   "metadata": {
    "collapsed": true,
    "deletable": true,
    "editable": true
   },
   "outputs": [],
   "source": [
    "c=get_sym_kl_rows(new_matrix)\n",
    "d=c.flatten()\n",
    "np.percentile(d, 20, axis=0)\n",
    "list_of_pairs=np.argwhere(c<17).tolist()\n",
    "equi_classes=find_classes(list_of_rep)"
   ]
  },
  {
   "cell_type": "code",
   "execution_count": 242,
   "metadata": {
    "collapsed": true
   },
   "outputs": [],
   "source": [
    "plt.hist(d, bins=100)  # arguments are passed to np.histogram\n",
    "plt.title(\"Histogram with 'auto' bins\")\n",
    "plt.show()"
   ]
  },
  {
   "cell_type": "code",
   "execution_count": 267,
   "metadata": {
    "collapsed": false
   },
   "outputs": [
    {
     "data": {
      "text/plain": [
       "17.50030937393641"
      ]
     },
     "execution_count": 267,
     "metadata": {},
     "output_type": "execute_result"
    }
   ],
   "source": []
  },
  {
   "cell_type": "code",
   "execution_count": 244,
   "metadata": {
    "collapsed": false,
    "deletable": true,
    "editable": true
   },
   "outputs": [
    {
     "data": {
      "image/png": "[encoded data removed]",
      "text/plain": [
       "<matplotlib.figure.Figure at 0x7f46cf28e8d0>"
      ]
     },
     "metadata": {},
     "output_type": "display_data"
    }
   ],
   "source": []
  },
  {
   "cell_type": "code",
   "execution_count": 268,
   "metadata": {
    "collapsed": false,
    "deletable": true,
    "editable": true
   },
   "outputs": [],
   "source": []
  },
  {
   "cell_type": "code",
   "execution_count": 269,
   "metadata": {
    "collapsed": false,
    "deletable": true,
    "editable": true
   },
   "outputs": [
    {
     "data": {
      "text/plain": [
       "351"
      ]
     },
     "execution_count": 269,
     "metadata": {},
     "output_type": "execute_result"
    }
   ],
   "source": [
    "import itertools\n",
    "len(set(itertools.chain(*list_of_pairs)))"
   ]
  },
  {
   "cell_type": "code",
   "execution_count": 270,
   "metadata": {
    "collapsed": false,
    "deletable": true,
    "editable": true
   },
   "outputs": [],
   "source": []
  },
  {
   "cell_type": "code",
   "execution_count": 271,
   "metadata": {
    "collapsed": false,
    "deletable": true,
    "editable": true
   },
   "outputs": [
    {
     "data": {
      "text/plain": [
       "351"
      ]
     },
     "execution_count": 271,
     "metadata": {},
     "output_type": "execute_result"
    }
   ],
   "source": [
    "import itertools\n",
    "len(set(itertools.chain(*list_of_rep)))"
   ]
  },
  {
   "cell_type": "code",
   "execution_count": 272,
   "metadata": {
    "collapsed": false,
    "deletable": true,
    "editable": true
   },
   "outputs": [],
   "source": []
  },
  {
   "cell_type": "code",
   "execution_count": 273,
   "metadata": {
    "collapsed": false,
    "deletable": true,
    "editable": true
   },
   "outputs": [],
   "source": [
    "equi_classes=find_classes(list_of_rep)"
   ]
  },
  {
   "cell_type": "code",
   "execution_count": 274,
   "metadata": {
    "collapsed": false
   },
   "outputs": [
    {
     "data": {
      "text/plain": [
       "69"
      ]
     },
     "execution_count": 274,
     "metadata": {},
     "output_type": "execute_result"
    }
   ],
   "source": [
    "len(equi_classes)"
   ]
  },
  {
   "cell_type": "code",
   "execution_count": 275,
   "metadata": {
    "collapsed": true
   },
   "outputs": [],
   "source": [
    "from nltk import FreqDist"
   ]
  },
  {
   "cell_type": "code",
   "execution_count": 282,
   "metadata": {
    "collapsed": true
   },
   "outputs": [],
   "source": []
  },
  {
   "cell_type": "code",
   "execution_count": 276,
   "metadata": {
    "collapsed": false,
    "deletable": true,
    "editable": true
   },
   "outputs": [],
   "source": [
    "results=[]\n",
    "for group in equi_classes:\n",
    "    results.append([sorted_features[x] for x in group])"
   ]
  },
  {
   "cell_type": "code",
   "execution_count": 312,
   "metadata": {
    "collapsed": false
   },
   "outputs": [],
   "source": [
    "def choose_best_res(record):\n",
    "    candiates=[(x[0],x[1],x[2],-len(x[1].split(';'))) for x in record if not x[1][0:7]=='Eukarya']\n",
    "    taxa_freq=FreqDist([y[1] for y in candiates]).most_common()\n",
    "    final=[]\n",
    "    for taxa, freq in taxa_freq:\n",
    "        min_idx = np.argmin([rec[2] for rec in record if rec[1]==taxa])\n",
    "        rep_marker=[rec[0] for rec in record if rec[1]==taxa][min_idx]\n",
    "        pval=np.median([rec[2] for rec in record if rec[1]==taxa])\n",
    "        direction=taxa[-1]\n",
    "        taxlevel=len(taxa[0:-1].split(';'))-np.sum([1 if isGenomeName(name) else 0 for name in taxa[0:-1].split(';')])\n",
    "        final.append([taxa[0:-1],rep_marker,direction, taxlevel, freq,pval])\n",
    "    candidates=sorted(final, key=lambda element: (-element[3],element[5],element[4]))\n",
    "    return candidates[0]"
   ]
  },
  {
   "cell_type": "code",
   "execution_count": 325,
   "metadata": {
    "collapsed": false
   },
   "outputs": [],
   "source": [
    "def check_results(results):\n",
    "    final_results=[]\n",
    "    for x in results:\n",
    "        if len(x)>1:\n",
    "            final_results.append(choose_best_res(x))\n",
    "        else:\n",
    "            x=x[0]\n",
    "            taxa=x[1][0:-1]\n",
    "            seq=x[0]\n",
    "            d=x[1][-1]\n",
    "            length=len(taxa.split(';'))-np.sum([1 if isGenomeName(name) else 0 for name in taxa.split(';')])\n",
    "            final_results.append([taxa,seq,d,length,1,x[2]])\n",
    "    candidates=sorted(final_results, key=lambda element: (element[2],-element[3],element[5],element[4]))\n",
    "    return candidates"
   ]
  },
  {
   "cell_type": "code",
   "execution_count": 327,
   "metadata": {
    "collapsed": false
   },
   "outputs": [
    {
     "data": {
      "text/plain": [
       "69"
      ]
     },
     "execution_count": 327,
     "metadata": {},
     "output_type": "execute_result"
    }
   ],
   "source": [
    "len(check_results(results))"
   ]
  },
  {
   "cell_type": "code",
   "execution_count": null,
   "metadata": {
    "collapsed": true
   },
   "outputs": [],
   "source": []
  }
 ],
 "metadata": {
  "kernelspec": {
   "display_name": "Python 3",
   "language": "python",
   "name": "python3"
  },
  "language_info": {
   "codemirror_mode": {
    "name": "ipython",
    "version": 3
   },
   "file_extension": ".py",
   "mimetype": "text/x-python",
   "name": "python",
   "nbconvert_exporter": "python",
   "pygments_lexer": "ipython3",
   "version": "3.4.6"
  }
 },
 "nbformat": 4,
 "nbformat_minor": 2
}
