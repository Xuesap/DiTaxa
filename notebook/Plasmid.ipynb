{
 "cells": [
  {
   "cell_type": "code",
   "execution_count": 16,
   "metadata": {
    "collapsed": true,
    "deletable": true,
    "editable": true
   },
   "outputs": [],
   "source": [
    "import sys\n",
    "sys.path.append('../')\n",
    "from utility.file_utility import FileUtility\n",
    "from make_representations.cpe_apply import CPE\n",
    "from make_representations.cpe_efficient import train_cpe\n",
    "from multiprocessing import Pool\n",
    "import tqdm"
   ]
  },
  {
   "cell_type": "code",
   "execution_count": 2,
   "metadata": {
    "collapsed": true,
    "deletable": true,
    "editable": true
   },
   "outputs": [],
   "source": [
    "plasmid_data=FileUtility.read_fasta_sequences('/mounts/data/proj/asgari/dissertation/git_repos/wgs_dataset/plasmid/bacteria_plasmid_only.fasta')"
   ]
  },
  {
   "cell_type": "code",
   "execution_count": null,
   "metadata": {
    "collapsed": false,
    "deletable": true,
    "editable": true
   },
   "outputs": [
    {
     "name": "stderr",
     "output_type": "stream",
     "text": [
      "  7%|▋         | 73722/1000000 [77:28:56<322:33:57,  1.25s/it] "
     ]
    }
   ],
   "source": [
    "train_cpe(train,'/mounts/data/proj/asgari/dissertation/git_repos/wgs_dataset/plasmid/cpe/plasmid_cpe',1000000,'/mounts/data/proj/asgari/dissertation/git_repos/wgs_dataset/plasmid/cpe/plasmid_cpe_freq')\n"
   ]
  },
  {
   "cell_type": "code",
   "execution_count": 10,
   "metadata": {
    "collapsed": true,
    "deletable": true,
    "editable": true
   },
   "outputs": [],
   "source": [
    "# from sklearn.model_selection import train_test_split\n",
    "# train, test=train_test_split(plasmid_data, test_size=0.1, shuffle=True)\n",
    "# FileUtility.save_list('/mounts/data/proj/asgari/dissertation/git_repos/wgs_dataset/plasmid/plasmid_training.txt',train)\n",
    "# FileUtility.save_list('/mounts/data/proj/asgari/dissertation/git_repos/wgs_dataset/plasmid/plasmid_testing.txt',test)"
   ]
  }
 ],
 "metadata": {
  "kernelspec": {
   "display_name": "Python 3",
   "language": "python",
   "name": "python3"
  },
  "language_info": {
   "codemirror_mode": {
    "name": "ipython",
    "version": 3
   },
   "file_extension": ".py",
   "mimetype": "text/x-python",
   "name": "python",
   "nbconvert_exporter": "python",
   "pygments_lexer": "ipython3",
   "version": "3.4.6"
  }
 },
 "nbformat": 4,
 "nbformat_minor": 2
}
